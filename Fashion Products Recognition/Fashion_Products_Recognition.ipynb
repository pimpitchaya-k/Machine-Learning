{
  "cells": [
    {
      "cell_type": "code",
      "execution_count": 1,
      "metadata": {
        "id": "RN6ahx-Yu_R_"
      },
      "outputs": [],
      "source": [
        "import numpy as np\n",
        "import pandas as pd\n",
        "import matplotlib.pyplot as plt\n",
        "import seaborn as sns\n",
        "import tensorflow as tf\n",
        "from tensorflow import keras\n",
        "from tensorflow.keras import layers, models\n",
        "from tensorflow.keras.utils import to_categorical\n",
        "from sklearn.model_selection import train_test_split\n",
        "from sklearn.metrics import f1_score, classification_report, confusion_matrix"
      ]
    },
    {
      "cell_type": "code",
      "execution_count": 2,
      "metadata": {
        "colab": {
          "base_uri": "https://localhost:8080/"
        },
        "id": "5FfnSEv9U2B2",
        "outputId": "cc0f5c51-449d-489a-f373-a33f09270909"
      },
      "outputs": [
        {
          "output_type": "stream",
          "name": "stdout",
          "text": [
            "(60000, 28, 28)\n",
            "(60000,)\n",
            "(10000, 28, 28)\n",
            "(10000,)\n"
          ]
        }
      ],
      "source": [
        "# import the data\n",
        "(x_train, y_train), (x_test, y_test) =  tf.keras.datasets.fashion_mnist.load_data()\n",
        "\n",
        "print(x_train.shape)\n",
        "print(y_train.shape)\n",
        "print(x_test.shape)\n",
        "print(y_test.shape)"
      ]
    },
    {
      "cell_type": "code",
      "execution_count": 3,
      "metadata": {
        "colab": {
          "base_uri": "https://localhost:8080/",
          "height": 104
        },
        "id": "tM8HOZe1U3uP",
        "outputId": "65d09113-ea87-48e6-8523-15541694e06d"
      },
      "outputs": [
        {
          "output_type": "display_data",
          "data": {
            "image/png": "[encoded data removed]",
            "text/plain": [
              "<Figure size 864x216 with 10 Axes>"
            ]
          },
          "metadata": {
            "needs_background": "light"
          }
        }
      ],
      "source": [
        "# An example of the input data\n",
        "_, axes = plt.subplots(nrows=1, ncols=10, figsize=(12, 3))\n",
        "for ax, image, label in zip(axes, x_train[:10], y_train[:10]):\n",
        "    ax.set_axis_off()\n",
        "    ax.imshow(image.reshape(28,28), cmap=plt.cm.gray_r, interpolation=\"nearest\")\n",
        "    ax.set_title(\"Label: %i\" % label)"
      ]
    },
    {
      "cell_type": "code",
      "execution_count": 4,
      "metadata": {
        "id": "BFaj0v1ZBHYW"
      },
      "outputs": [],
      "source": [
        "x_train = x_train.reshape(x_train.shape[0],28*28)\n",
        "x_test = x_test.reshape(x_test.shape[0],28*28)"
      ]
    },
    {
      "cell_type": "code",
      "execution_count": 5,
      "metadata": {
        "id": "gT7DFtGAlW_i"
      },
      "outputs": [],
      "source": [
        "x_train, x_val, y_train, y_val = train_test_split(x_train, y_train, test_size=0.10, random_state=112, stratify=y_train)"
      ]
    },
    {
      "cell_type": "code",
      "execution_count": 6,
      "metadata": {
        "id": "aRhOUC98kekT"
      },
      "outputs": [],
      "source": [
        "x_train = x_train/255\n",
        "x_val = x_val/255\n",
        "x_test = x_test/255"
      ]
    },
    {
      "cell_type": "code",
      "execution_count": 7,
      "metadata": {
        "id": "S-Z5ZlqUbF5x"
      },
      "outputs": [],
      "source": [
        "input_layer = layers.Input(shape=(784,))"
      ]
    },
    {
      "cell_type": "code",
      "execution_count": 8,
      "metadata": {
        "id": "u6kmqyFNbqRG"
      },
      "outputs": [],
      "source": [
        "lambda_L = 1e-5\n",
        "\n",
        "hidden_layer = layers.Dense(512, activation = 'tanh', kernel_initializer=keras.initializers.GlorotNormal(), kernel_regularizer=keras.regularizers.L1(lambda_L))(input_layer)\n",
        "hidden_layer = layers.Dropout(0.1)(hidden_layer)\n",
        "\n",
        "hidden_layer = layers.Dense(256, activation = 'tanh', kernel_initializer=keras.initializers.GlorotNormal() , kernel_regularizer=keras.regularizers.L1(lambda_L))(hidden_layer)\n",
        "hidden_layer = layers.Dropout(0.1)(hidden_layer)\n",
        "\n",
        "hidden_layer = layers.Dense(128, activation = 'tanh', kernel_initializer=keras.initializers.GlorotNormal() , kernel_regularizer=keras.regularizers.L1(lambda_L))(hidden_layer)\n",
        "hidden_layer = layers.Dropout(0.1)(hidden_layer)\n",
        "\n",
        "hidden_layer = layers.Dense(64, activation = 'tanh', kernel_initializer=keras.initializers.GlorotNormal() , kernel_regularizer=keras.regularizers.L1(lambda_L))(hidden_layer)\n",
        "hidden_layer = layers.Dropout(0.1)(hidden_layer)\n",
        "\n",
        "hidden_layer = layers.Dense(32, activation = 'tanh', kernel_initializer=keras.initializers.GlorotNormal() , kernel_regularizer=keras.regularizers.L1(lambda_L))(hidden_layer)\n",
        "hidden_layer = layers.Dropout(0.1)(hidden_layer)"
      ]
    },
    {
      "cell_type": "code",
      "execution_count": 9,
      "metadata": {
        "id": "FKXZ5bz-cEER"
      },
      "outputs": [],
      "source": [
        "output_layer = layers.Dense(10, activation='softmax')(hidden_layer)"
      ]
    },
    {
      "cell_type": "code",
      "execution_count": 10,
      "metadata": {
        "id": "jsawxnvXdTKA"
      },
      "outputs": [],
      "source": [
        "model = keras.Model(inputs = input_layer, outputs = output_layer)"
      ]
    },
    {
      "cell_type": "code",
      "execution_count": 11,
      "metadata": {
        "colab": {
          "base_uri": "https://localhost:8080/"
        },
        "id": "HGdh7Pbfd4AG",
        "outputId": "8f3ea6b7-4cb0-463d-e04f-8d0304b07cb2"
      },
      "outputs": [
        {
          "output_type": "stream",
          "name": "stdout",
          "text": [
            "Model: \"model\"\n",
            "_________________________________________________________________\n",
            " Layer (type)                Output Shape              Param #   \n",
            "=================================================================\n",
            " input_1 (InputLayer)        [(None, 784)]             0         \n",
            "                                                                 \n",
            " dense (Dense)               (None, 512)               401920    \n",
            "                                                                 \n",
            " dropout (Dropout)           (None, 512)               0         \n",
            "                                                                 \n",
            " dense_1 (Dense)             (None, 256)               131328    \n",
            "                                                                 \n",
            " dropout_1 (Dropout)         (None, 256)               0         \n",
            "                                                                 \n",
            " dense_2 (Dense)             (None, 128)               32896     \n",
            "                                                                 \n",
            " dropout_2 (Dropout)         (None, 128)               0         \n",
            "                                                                 \n",
            " dense_3 (Dense)             (None, 64)                8256      \n",
            "                                                                 \n",
            " dropout_3 (Dropout)         (None, 64)                0         \n",
            "                                                                 \n",
            " dense_4 (Dense)             (None, 32)                2080      \n",
            "                                                                 \n",
            " dropout_4 (Dropout)         (None, 32)                0         \n",
            "                                                                 \n",
            " dense_5 (Dense)             (None, 10)                330       \n",
            "                                                                 \n",
            "=================================================================\n",
            "Total params: 576,810\n",
            "Trainable params: 576,810\n",
            "Non-trainable params: 0\n",
            "_________________________________________________________________\n"
          ]
        }
      ],
      "source": [
        "model.summary()"
      ]
    },
    {
      "cell_type": "code",
      "execution_count": 12,
      "metadata": {
        "colab": {
          "base_uri": "https://localhost:8080/",
          "height": 1000
        },
        "id": "ENbtkafXd5hM",
        "outputId": "22758ddc-e84c-43d9-83d6-63557b742f98"
      },
      "outputs": [
        {
          "output_type": "execute_result",
          "data": {
            "image/png": "[encoded data removed]",
            "text/plain": [
              "<IPython.core.display.Image object>"
            ]
          },
          "metadata": {},
          "execution_count": 12
        }
      ],
      "source": [
        "tf.keras.utils.plot_model(model)"
      ]
    },
    {
      "cell_type": "code",
      "execution_count": 13,
      "metadata": {
        "id": "TcoXiyFLeDDQ"
      },
      "outputs": [],
      "source": [
        "model.compile(optimizer=keras.optimizers.Adam(learning_rate=1e-4), loss=keras.losses.SparseCategoricalCrossentropy(), metrics=[keras.metrics.SparseCategoricalAccuracy()])"
      ]
    },
    {
      "cell_type": "code",
      "execution_count": 14,
      "metadata": {
        "id": "r5wcfZaHelOO"
      },
      "outputs": [],
      "source": [
        "earlyStop = keras.callbacks.EarlyStopping(monitor='val_loss', patience=10, restore_best_weights=True)"
      ]
    },
    {
      "cell_type": "code",
      "execution_count": 15,
      "metadata": {
        "colab": {
          "base_uri": "https://localhost:8080/"
        },
        "id": "l_LZX8iIey37",
        "outputId": "b43be957-a13c-40a9-e91f-4117f1639c24"
      },
      "outputs": [
        {
          "output_type": "stream",
          "name": "stdout",
          "text": [
            "Epoch 1/200\n",
            "1688/1688 [==============================] - 33s 19ms/step - loss: 0.9050 - sparse_categorical_accuracy: 0.7785 - val_loss: 0.6785 - val_sparse_categorical_accuracy: 0.8362\n",
            "Epoch 2/200\n",
            "1688/1688 [==============================] - 27s 16ms/step - loss: 0.6777 - sparse_categorical_accuracy: 0.8388 - val_loss: 0.6200 - val_sparse_categorical_accuracy: 0.8545\n",
            "Epoch 3/200\n",
            "1688/1688 [==============================] - 26s 15ms/step - loss: 0.6273 - sparse_categorical_accuracy: 0.8519 - val_loss: 0.6178 - val_sparse_categorical_accuracy: 0.8487\n",
            "Epoch 4/200\n",
            "1688/1688 [==============================] - 27s 16ms/step - loss: 0.6010 - sparse_categorical_accuracy: 0.8575 - val_loss: 0.5869 - val_sparse_categorical_accuracy: 0.8550\n",
            "Epoch 5/200\n",
            "1688/1688 [==============================] - 26s 15ms/step - loss: 0.5801 - sparse_categorical_accuracy: 0.8647 - val_loss: 0.5747 - val_sparse_categorical_accuracy: 0.8603\n",
            "Epoch 6/200\n",
            "1688/1688 [==============================] - 25s 15ms/step - loss: 0.5655 - sparse_categorical_accuracy: 0.8667 - val_loss: 0.5604 - val_sparse_categorical_accuracy: 0.8663\n",
            "Epoch 7/200\n",
            "1688/1688 [==============================] - 17s 10ms/step - loss: 0.5513 - sparse_categorical_accuracy: 0.8706 - val_loss: 0.5519 - val_sparse_categorical_accuracy: 0.8677\n",
            "Epoch 8/200\n",
            "1688/1688 [==============================] - 17s 10ms/step - loss: 0.5385 - sparse_categorical_accuracy: 0.8744 - val_loss: 0.5439 - val_sparse_categorical_accuracy: 0.8765\n",
            "Epoch 9/200\n",
            "1688/1688 [==============================] - 17s 10ms/step - loss: 0.5292 - sparse_categorical_accuracy: 0.8769 - val_loss: 0.5243 - val_sparse_categorical_accuracy: 0.8808\n",
            "Epoch 10/200\n",
            "1688/1688 [==============================] - 17s 10ms/step - loss: 0.5211 - sparse_categorical_accuracy: 0.8783 - val_loss: 0.5385 - val_sparse_categorical_accuracy: 0.8740\n",
            "Epoch 11/200\n",
            "1688/1688 [==============================] - 18s 11ms/step - loss: 0.5113 - sparse_categorical_accuracy: 0.8799 - val_loss: 0.5238 - val_sparse_categorical_accuracy: 0.8740\n",
            "Epoch 12/200\n",
            "1688/1688 [==============================] - 17s 10ms/step - loss: 0.5039 - sparse_categorical_accuracy: 0.8815 - val_loss: 0.5017 - val_sparse_categorical_accuracy: 0.8842\n",
            "Epoch 13/200\n",
            "1688/1688 [==============================] - 29s 17ms/step - loss: 0.4957 - sparse_categorical_accuracy: 0.8834 - val_loss: 0.5069 - val_sparse_categorical_accuracy: 0.8792\n",
            "Epoch 14/200\n",
            "1688/1688 [==============================] - 17s 10ms/step - loss: 0.4890 - sparse_categorical_accuracy: 0.8849 - val_loss: 0.5366 - val_sparse_categorical_accuracy: 0.8710\n",
            "Epoch 15/200\n",
            "1688/1688 [==============================] - 18s 11ms/step - loss: 0.4829 - sparse_categorical_accuracy: 0.8869 - val_loss: 0.4933 - val_sparse_categorical_accuracy: 0.8863\n",
            "Epoch 16/200\n",
            "1688/1688 [==============================] - 18s 11ms/step - loss: 0.4768 - sparse_categorical_accuracy: 0.8889 - val_loss: 0.5000 - val_sparse_categorical_accuracy: 0.8808\n",
            "Epoch 17/200\n",
            "1688/1688 [==============================] - 17s 10ms/step - loss: 0.4709 - sparse_categorical_accuracy: 0.8894 - val_loss: 0.4928 - val_sparse_categorical_accuracy: 0.8858\n",
            "Epoch 18/200\n",
            "1688/1688 [==============================] - 18s 11ms/step - loss: 0.4684 - sparse_categorical_accuracy: 0.8911 - val_loss: 0.4917 - val_sparse_categorical_accuracy: 0.8850\n",
            "Epoch 19/200\n",
            "1688/1688 [==============================] - 18s 11ms/step - loss: 0.4613 - sparse_categorical_accuracy: 0.8919 - val_loss: 0.4891 - val_sparse_categorical_accuracy: 0.8868\n",
            "Epoch 20/200\n",
            "1688/1688 [==============================] - 18s 11ms/step - loss: 0.4551 - sparse_categorical_accuracy: 0.8930 - val_loss: 0.4875 - val_sparse_categorical_accuracy: 0.8863\n",
            "Epoch 21/200\n",
            "1688/1688 [==============================] - 18s 11ms/step - loss: 0.4533 - sparse_categorical_accuracy: 0.8945 - val_loss: 0.4881 - val_sparse_categorical_accuracy: 0.8838\n",
            "Epoch 22/200\n",
            "1688/1688 [==============================] - 18s 11ms/step - loss: 0.4486 - sparse_categorical_accuracy: 0.8959 - val_loss: 0.4757 - val_sparse_categorical_accuracy: 0.8848\n",
            "Epoch 23/200\n",
            "1688/1688 [==============================] - 17s 10ms/step - loss: 0.4437 - sparse_categorical_accuracy: 0.8969 - val_loss: 0.4670 - val_sparse_categorical_accuracy: 0.8875\n",
            "Epoch 24/200\n",
            "1688/1688 [==============================] - 17s 10ms/step - loss: 0.4416 - sparse_categorical_accuracy: 0.8969 - val_loss: 0.4871 - val_sparse_categorical_accuracy: 0.8823\n",
            "Epoch 25/200\n",
            "1688/1688 [==============================] - 17s 10ms/step - loss: 0.4357 - sparse_categorical_accuracy: 0.8971 - val_loss: 0.4691 - val_sparse_categorical_accuracy: 0.8932\n",
            "Epoch 26/200\n",
            "1688/1688 [==============================] - 17s 10ms/step - loss: 0.4326 - sparse_categorical_accuracy: 0.8990 - val_loss: 0.4702 - val_sparse_categorical_accuracy: 0.8877\n",
            "Epoch 27/200\n",
            "1688/1688 [==============================] - 17s 10ms/step - loss: 0.4294 - sparse_categorical_accuracy: 0.8997 - val_loss: 0.4786 - val_sparse_categorical_accuracy: 0.8868\n",
            "Epoch 28/200\n",
            "1688/1688 [==============================] - 18s 11ms/step - loss: 0.4238 - sparse_categorical_accuracy: 0.9011 - val_loss: 0.4639 - val_sparse_categorical_accuracy: 0.8887\n",
            "Epoch 29/200\n",
            "1688/1688 [==============================] - 17s 10ms/step - loss: 0.4249 - sparse_categorical_accuracy: 0.8995 - val_loss: 0.4808 - val_sparse_categorical_accuracy: 0.8817\n",
            "Epoch 30/200\n",
            "1688/1688 [==============================] - 18s 10ms/step - loss: 0.4205 - sparse_categorical_accuracy: 0.9004 - val_loss: 0.4614 - val_sparse_categorical_accuracy: 0.8878\n",
            "Epoch 31/200\n",
            "1688/1688 [==============================] - 18s 11ms/step - loss: 0.4147 - sparse_categorical_accuracy: 0.9026 - val_loss: 0.4524 - val_sparse_categorical_accuracy: 0.8927\n",
            "Epoch 32/200\n",
            "1688/1688 [==============================] - 18s 11ms/step - loss: 0.4145 - sparse_categorical_accuracy: 0.9028 - val_loss: 0.4685 - val_sparse_categorical_accuracy: 0.8905\n",
            "Epoch 33/200\n",
            "1688/1688 [==============================] - 18s 10ms/step - loss: 0.4088 - sparse_categorical_accuracy: 0.9041 - val_loss: 0.4520 - val_sparse_categorical_accuracy: 0.8940\n",
            "Epoch 34/200\n",
            "1688/1688 [==============================] - 18s 11ms/step - loss: 0.4072 - sparse_categorical_accuracy: 0.9039 - val_loss: 0.4550 - val_sparse_categorical_accuracy: 0.8883\n",
            "Epoch 35/200\n",
            "1688/1688 [==============================] - 18s 11ms/step - loss: 0.4083 - sparse_categorical_accuracy: 0.9041 - val_loss: 0.4550 - val_sparse_categorical_accuracy: 0.8953\n",
            "Epoch 36/200\n",
            "1688/1688 [==============================] - 18s 11ms/step - loss: 0.4042 - sparse_categorical_accuracy: 0.9032 - val_loss: 0.4460 - val_sparse_categorical_accuracy: 0.8977\n",
            "Epoch 37/200\n",
            "1688/1688 [==============================] - 18s 11ms/step - loss: 0.4010 - sparse_categorical_accuracy: 0.9052 - val_loss: 0.4482 - val_sparse_categorical_accuracy: 0.8927\n",
            "Epoch 38/200\n",
            "1688/1688 [==============================] - 19s 11ms/step - loss: 0.3974 - sparse_categorical_accuracy: 0.9074 - val_loss: 0.4623 - val_sparse_categorical_accuracy: 0.8855\n",
            "Epoch 39/200\n",
            "1688/1688 [==============================] - 17s 10ms/step - loss: 0.3961 - sparse_categorical_accuracy: 0.9065 - val_loss: 0.4428 - val_sparse_categorical_accuracy: 0.8950\n",
            "Epoch 40/200\n",
            "1688/1688 [==============================] - 17s 10ms/step - loss: 0.3938 - sparse_categorical_accuracy: 0.9071 - val_loss: 0.4476 - val_sparse_categorical_accuracy: 0.8913\n",
            "Epoch 41/200\n",
            "1688/1688 [==============================] - 17s 10ms/step - loss: 0.3931 - sparse_categorical_accuracy: 0.9070 - val_loss: 0.4390 - val_sparse_categorical_accuracy: 0.8960\n",
            "Epoch 42/200\n",
            "1688/1688 [==============================] - 18s 11ms/step - loss: 0.3908 - sparse_categorical_accuracy: 0.9075 - val_loss: 0.4535 - val_sparse_categorical_accuracy: 0.8932\n",
            "Epoch 43/200\n",
            "1688/1688 [==============================] - 17s 10ms/step - loss: 0.3899 - sparse_categorical_accuracy: 0.9077 - val_loss: 0.4432 - val_sparse_categorical_accuracy: 0.8942\n",
            "Epoch 44/200\n",
            "1688/1688 [==============================] - 17s 10ms/step - loss: 0.3873 - sparse_categorical_accuracy: 0.9082 - val_loss: 0.4510 - val_sparse_categorical_accuracy: 0.8883\n",
            "Epoch 45/200\n",
            "1688/1688 [==============================] - 17s 10ms/step - loss: 0.3825 - sparse_categorical_accuracy: 0.9095 - val_loss: 0.4454 - val_sparse_categorical_accuracy: 0.8893\n",
            "Epoch 46/200\n",
            "1688/1688 [==============================] - 17s 10ms/step - loss: 0.3837 - sparse_categorical_accuracy: 0.9098 - val_loss: 0.4499 - val_sparse_categorical_accuracy: 0.8932\n",
            "Epoch 47/200\n",
            "1688/1688 [==============================] - 17s 10ms/step - loss: 0.3805 - sparse_categorical_accuracy: 0.9114 - val_loss: 0.4437 - val_sparse_categorical_accuracy: 0.8938\n",
            "Epoch 48/200\n",
            "1688/1688 [==============================] - 17s 10ms/step - loss: 0.3787 - sparse_categorical_accuracy: 0.9112 - val_loss: 0.4378 - val_sparse_categorical_accuracy: 0.8957\n",
            "Epoch 49/200\n",
            "1688/1688 [==============================] - 18s 10ms/step - loss: 0.3767 - sparse_categorical_accuracy: 0.9102 - val_loss: 0.4608 - val_sparse_categorical_accuracy: 0.8882\n",
            "Epoch 50/200\n",
            "1688/1688 [==============================] - 18s 10ms/step - loss: 0.3772 - sparse_categorical_accuracy: 0.9110 - val_loss: 0.4346 - val_sparse_categorical_accuracy: 0.8960\n",
            "Epoch 51/200\n",
            "1688/1688 [==============================] - 17s 10ms/step - loss: 0.3727 - sparse_categorical_accuracy: 0.9122 - val_loss: 0.4308 - val_sparse_categorical_accuracy: 0.8970\n",
            "Epoch 52/200\n",
            "1688/1688 [==============================] - 17s 10ms/step - loss: 0.3716 - sparse_categorical_accuracy: 0.9108 - val_loss: 0.4308 - val_sparse_categorical_accuracy: 0.8985\n",
            "Epoch 53/200\n",
            "1688/1688 [==============================] - 17s 10ms/step - loss: 0.3704 - sparse_categorical_accuracy: 0.9135 - val_loss: 0.4350 - val_sparse_categorical_accuracy: 0.8928\n",
            "Epoch 54/200\n",
            "1688/1688 [==============================] - 17s 10ms/step - loss: 0.3703 - sparse_categorical_accuracy: 0.9130 - val_loss: 0.4395 - val_sparse_categorical_accuracy: 0.8947\n",
            "Epoch 55/200\n",
            "1688/1688 [==============================] - 18s 10ms/step - loss: 0.3676 - sparse_categorical_accuracy: 0.9133 - val_loss: 0.4290 - val_sparse_categorical_accuracy: 0.8965\n",
            "Epoch 56/200\n",
            "1688/1688 [==============================] - 18s 11ms/step - loss: 0.3645 - sparse_categorical_accuracy: 0.9153 - val_loss: 0.4378 - val_sparse_categorical_accuracy: 0.8910\n",
            "Epoch 57/200\n",
            "1688/1688 [==============================] - 18s 10ms/step - loss: 0.3660 - sparse_categorical_accuracy: 0.9146 - val_loss: 0.4371 - val_sparse_categorical_accuracy: 0.8970\n",
            "Epoch 58/200\n",
            "1688/1688 [==============================] - 17s 10ms/step - loss: 0.3628 - sparse_categorical_accuracy: 0.9154 - val_loss: 0.4413 - val_sparse_categorical_accuracy: 0.8925\n",
            "Epoch 59/200\n",
            "1688/1688 [==============================] - 17s 10ms/step - loss: 0.3611 - sparse_categorical_accuracy: 0.9136 - val_loss: 0.4280 - val_sparse_categorical_accuracy: 0.8980\n",
            "Epoch 60/200\n",
            "1688/1688 [==============================] - 17s 10ms/step - loss: 0.3586 - sparse_categorical_accuracy: 0.9159 - val_loss: 0.4356 - val_sparse_categorical_accuracy: 0.8973\n",
            "Epoch 61/200\n",
            "1688/1688 [==============================] - 17s 10ms/step - loss: 0.3593 - sparse_categorical_accuracy: 0.9149 - val_loss: 0.4275 - val_sparse_categorical_accuracy: 0.8973\n",
            "Epoch 62/200\n",
            "1688/1688 [==============================] - 17s 10ms/step - loss: 0.3569 - sparse_categorical_accuracy: 0.9163 - val_loss: 0.4246 - val_sparse_categorical_accuracy: 0.8963\n",
            "Epoch 63/200\n",
            "1688/1688 [==============================] - 18s 10ms/step - loss: 0.3564 - sparse_categorical_accuracy: 0.9173 - val_loss: 0.4246 - val_sparse_categorical_accuracy: 0.8972\n",
            "Epoch 64/200\n",
            "1688/1688 [==============================] - 18s 10ms/step - loss: 0.3544 - sparse_categorical_accuracy: 0.9180 - val_loss: 0.4261 - val_sparse_categorical_accuracy: 0.8955\n",
            "Epoch 65/200\n",
            "1688/1688 [==============================] - 18s 10ms/step - loss: 0.3526 - sparse_categorical_accuracy: 0.9171 - val_loss: 0.4278 - val_sparse_categorical_accuracy: 0.8952\n",
            "Epoch 66/200\n",
            "1688/1688 [==============================] - 17s 10ms/step - loss: 0.3534 - sparse_categorical_accuracy: 0.9167 - val_loss: 0.4273 - val_sparse_categorical_accuracy: 0.8987\n",
            "Epoch 67/200\n",
            "1688/1688 [==============================] - 18s 10ms/step - loss: 0.3512 - sparse_categorical_accuracy: 0.9187 - val_loss: 0.4334 - val_sparse_categorical_accuracy: 0.8920\n",
            "Epoch 68/200\n",
            "1688/1688 [==============================] - 18s 10ms/step - loss: 0.3520 - sparse_categorical_accuracy: 0.9177 - val_loss: 0.4275 - val_sparse_categorical_accuracy: 0.8968\n",
            "Epoch 69/200\n",
            "1688/1688 [==============================] - 17s 10ms/step - loss: 0.3507 - sparse_categorical_accuracy: 0.9183 - val_loss: 0.4361 - val_sparse_categorical_accuracy: 0.8937\n",
            "Epoch 70/200\n",
            "1688/1688 [==============================] - 18s 11ms/step - loss: 0.3482 - sparse_categorical_accuracy: 0.9186 - val_loss: 0.4315 - val_sparse_categorical_accuracy: 0.8945\n",
            "Epoch 71/200\n",
            "1688/1688 [==============================] - 18s 11ms/step - loss: 0.3465 - sparse_categorical_accuracy: 0.9186 - val_loss: 0.4205 - val_sparse_categorical_accuracy: 0.8975\n",
            "Epoch 72/200\n",
            "1688/1688 [==============================] - 18s 11ms/step - loss: 0.3447 - sparse_categorical_accuracy: 0.9181 - val_loss: 0.4299 - val_sparse_categorical_accuracy: 0.8957\n",
            "Epoch 73/200\n",
            "1688/1688 [==============================] - 18s 10ms/step - loss: 0.3440 - sparse_categorical_accuracy: 0.9204 - val_loss: 0.4502 - val_sparse_categorical_accuracy: 0.8902\n",
            "Epoch 74/200\n",
            "1688/1688 [==============================] - 18s 10ms/step - loss: 0.3429 - sparse_categorical_accuracy: 0.9201 - val_loss: 0.4274 - val_sparse_categorical_accuracy: 0.8983\n",
            "Epoch 75/200\n",
            "1688/1688 [==============================] - 17s 10ms/step - loss: 0.3423 - sparse_categorical_accuracy: 0.9208 - val_loss: 0.4391 - val_sparse_categorical_accuracy: 0.8943\n",
            "Epoch 76/200\n",
            "1688/1688 [==============================] - 17s 10ms/step - loss: 0.3420 - sparse_categorical_accuracy: 0.9200 - val_loss: 0.4376 - val_sparse_categorical_accuracy: 0.8955\n",
            "Epoch 77/200\n",
            "1688/1688 [==============================] - 18s 10ms/step - loss: 0.3403 - sparse_categorical_accuracy: 0.9213 - val_loss: 0.4235 - val_sparse_categorical_accuracy: 0.8965\n",
            "Epoch 78/200\n",
            "1688/1688 [==============================] - 17s 10ms/step - loss: 0.3391 - sparse_categorical_accuracy: 0.9206 - val_loss: 0.4264 - val_sparse_categorical_accuracy: 0.8983\n",
            "Epoch 79/200\n",
            "1688/1688 [==============================] - 17s 10ms/step - loss: 0.3388 - sparse_categorical_accuracy: 0.9200 - val_loss: 0.4342 - val_sparse_categorical_accuracy: 0.8903\n",
            "Epoch 80/200\n",
            "1688/1688 [==============================] - 18s 10ms/step - loss: 0.3354 - sparse_categorical_accuracy: 0.9210 - val_loss: 0.4167 - val_sparse_categorical_accuracy: 0.8968\n",
            "Epoch 81/200\n",
            "1688/1688 [==============================] - 18s 11ms/step - loss: 0.3351 - sparse_categorical_accuracy: 0.9224 - val_loss: 0.4184 - val_sparse_categorical_accuracy: 0.8998\n",
            "Epoch 82/200\n",
            "1688/1688 [==============================] - 18s 10ms/step - loss: 0.3357 - sparse_categorical_accuracy: 0.9212 - val_loss: 0.4310 - val_sparse_categorical_accuracy: 0.8968\n",
            "Epoch 83/200\n",
            "1688/1688 [==============================] - 18s 10ms/step - loss: 0.3333 - sparse_categorical_accuracy: 0.9234 - val_loss: 0.4159 - val_sparse_categorical_accuracy: 0.9015\n",
            "Epoch 84/200\n",
            "1688/1688 [==============================] - 17s 10ms/step - loss: 0.3323 - sparse_categorical_accuracy: 0.9220 - val_loss: 0.4190 - val_sparse_categorical_accuracy: 0.8968\n",
            "Epoch 85/200\n",
            "1688/1688 [==============================] - 17s 10ms/step - loss: 0.3303 - sparse_categorical_accuracy: 0.9234 - val_loss: 0.4266 - val_sparse_categorical_accuracy: 0.8970\n",
            "Epoch 86/200\n",
            "1688/1688 [==============================] - 17s 10ms/step - loss: 0.3317 - sparse_categorical_accuracy: 0.9236 - val_loss: 0.4329 - val_sparse_categorical_accuracy: 0.8942\n",
            "Epoch 87/200\n",
            "1688/1688 [==============================] - 17s 10ms/step - loss: 0.3294 - sparse_categorical_accuracy: 0.9231 - val_loss: 0.4151 - val_sparse_categorical_accuracy: 0.9017\n",
            "Epoch 88/200\n",
            "1688/1688 [==============================] - 18s 10ms/step - loss: 0.3323 - sparse_categorical_accuracy: 0.9229 - val_loss: 0.4273 - val_sparse_categorical_accuracy: 0.8980\n",
            "Epoch 89/200\n",
            "1688/1688 [==============================] - 18s 11ms/step - loss: 0.3287 - sparse_categorical_accuracy: 0.9240 - val_loss: 0.4214 - val_sparse_categorical_accuracy: 0.8990\n",
            "Epoch 90/200\n",
            "1688/1688 [==============================] - 18s 11ms/step - loss: 0.3291 - sparse_categorical_accuracy: 0.9239 - val_loss: 0.4238 - val_sparse_categorical_accuracy: 0.8985\n",
            "Epoch 91/200\n",
            "1688/1688 [==============================] - 18s 11ms/step - loss: 0.3274 - sparse_categorical_accuracy: 0.9247 - val_loss: 0.4212 - val_sparse_categorical_accuracy: 0.9005\n",
            "Epoch 92/200\n",
            "1688/1688 [==============================] - 18s 11ms/step - loss: 0.3244 - sparse_categorical_accuracy: 0.9251 - val_loss: 0.4197 - val_sparse_categorical_accuracy: 0.9022\n",
            "Epoch 93/200\n",
            "1688/1688 [==============================] - 18s 10ms/step - loss: 0.3253 - sparse_categorical_accuracy: 0.9257 - val_loss: 0.4243 - val_sparse_categorical_accuracy: 0.8953\n",
            "Epoch 94/200\n",
            "1688/1688 [==============================] - 18s 11ms/step - loss: 0.3248 - sparse_categorical_accuracy: 0.9245 - val_loss: 0.4232 - val_sparse_categorical_accuracy: 0.8967\n",
            "Epoch 95/200\n",
            "1688/1688 [==============================] - 18s 11ms/step - loss: 0.3216 - sparse_categorical_accuracy: 0.9266 - val_loss: 0.4311 - val_sparse_categorical_accuracy: 0.8988\n",
            "Epoch 96/200\n",
            "1688/1688 [==============================] - 18s 10ms/step - loss: 0.3228 - sparse_categorical_accuracy: 0.9250 - val_loss: 0.4251 - val_sparse_categorical_accuracy: 0.8985\n",
            "Epoch 97/200\n",
            "1688/1688 [==============================] - 19s 11ms/step - loss: 0.3205 - sparse_categorical_accuracy: 0.9279 - val_loss: 0.4179 - val_sparse_categorical_accuracy: 0.9010\n"
          ]
        }
      ],
      "source": [
        "history = model.fit(x=x_train, y=y_train, epochs=200, callbacks=[earlyStop], validation_data=(x_val, y_val))"
      ]
    },
    {
      "cell_type": "code",
      "execution_count": 16,
      "metadata": {
        "id": "e-Pcu80EyNrE"
      },
      "outputs": [],
      "source": [
        "model.save('model.h5')"
      ]
    },
    {
      "cell_type": "code",
      "execution_count": 17,
      "metadata": {
        "id": "erqOhvTtfL5l"
      },
      "outputs": [],
      "source": [
        "model.save_weights('weight.h5')"
      ]
    },
    {
      "cell_type": "code",
      "execution_count": 18,
      "metadata": {
        "id": "h784kgbOyXqy",
        "colab": {
          "base_uri": "https://localhost:8080/"
        },
        "outputId": "3705a3bb-efdb-40d0-83d4-546fb31e5808"
      },
      "outputs": [
        {
          "output_type": "execute_result",
          "data": {
            "text/plain": [
              "array([[3.36343055e-06, 5.64530274e-06, 1.23097143e-05, ...,\n",
              "        3.76534299e-03, 1.49644202e-05, 9.95980263e-01],\n",
              "       [1.03638635e-03, 5.14079184e-05, 9.85399783e-01, ...,\n",
              "        2.80793902e-05, 2.15889013e-05, 3.12199627e-05],\n",
              "       [7.78562480e-06, 9.99952078e-01, 2.59256262e-06, ...,\n",
              "        1.39273959e-06, 2.42890428e-06, 4.62137422e-07],\n",
              "       ...,\n",
              "       [2.70463759e-04, 1.47995061e-05, 2.85716087e-05, ...,\n",
              "        7.34052956e-05, 9.99413252e-01, 3.03441925e-06],\n",
              "       [3.33201501e-06, 9.99925971e-01, 6.84418364e-06, ...,\n",
              "        2.47548451e-06, 4.00411136e-06, 6.33215620e-07],\n",
              "       [2.34478534e-07, 1.17959016e-05, 4.93301457e-07, ...,\n",
              "        1.81280964e-04, 8.30083081e-06, 1.06736325e-05]], dtype=float32)"
            ]
          },
          "metadata": {},
          "execution_count": 18
        }
      ],
      "source": [
        "y_predicted = model.predict(x_test)\n",
        "y_predicted"
      ]
    },
    {
      "cell_type": "code",
      "execution_count": 19,
      "metadata": {
        "colab": {
          "base_uri": "https://localhost:8080/"
        },
        "id": "kYg_S8Pk4PT9",
        "outputId": "1dd1076e-76ca-43bf-f5fd-df24422c983c"
      },
      "outputs": [
        {
          "output_type": "execute_result",
          "data": {
            "text/plain": [
              "array([9, 2, 1, ..., 8, 1, 5])"
            ]
          },
          "metadata": {},
          "execution_count": 19
        }
      ],
      "source": [
        "y_pred = y_predicted.argmax(axis=1)\n",
        "y_pred"
      ]
    },
    {
      "cell_type": "code",
      "execution_count": 20,
      "metadata": {
        "colab": {
          "base_uri": "https://localhost:8080/"
        },
        "id": "6ockQvR44PT_",
        "outputId": "780dba63-3dac-4118-b4fe-3198e858cf9e"
      },
      "outputs": [
        {
          "output_type": "stream",
          "name": "stdout",
          "text": [
            "              precision    recall  f1-score   support\n",
            "\n",
            "           0       0.84      0.85      0.84      1000\n",
            "           1       0.99      0.98      0.98      1000\n",
            "           2       0.83      0.81      0.82      1000\n",
            "           3       0.91      0.89      0.90      1000\n",
            "           4       0.80      0.86      0.83      1000\n",
            "           5       0.97      0.96      0.97      1000\n",
            "           6       0.73      0.70      0.72      1000\n",
            "           7       0.94      0.96      0.95      1000\n",
            "           8       0.98      0.98      0.98      1000\n",
            "           9       0.97      0.96      0.96      1000\n",
            "\n",
            "    accuracy                           0.90     10000\n",
            "   macro avg       0.90      0.90      0.90     10000\n",
            "weighted avg       0.90      0.90      0.90     10000\n",
            "\n"
          ]
        }
      ],
      "source": [
        "print(classification_report(y_test, y_pred))"
      ]
    },
    {
      "cell_type": "code",
      "execution_count": 21,
      "metadata": {
        "id": "9LvO74kf4PUA"
      },
      "outputs": [],
      "source": [
        "#search for the wrong predicted index in the test set.\n",
        "incorrect = np.where(y_pred != y_test)"
      ]
    },
    {
      "cell_type": "code",
      "execution_count": 22,
      "metadata": {
        "id": "Ah6CQpAjSYkv"
      },
      "outputs": [],
      "source": [
        "x_wrong = []\n",
        "y_wrong = []\n",
        "y_expected = []\n",
        "for i in incorrect[0]:\n",
        "  x_wrong.append(x_test[i])\n",
        "  y_wrong.append(y_pred[i])\n",
        "  y_expected.append(y_test[i])"
      ]
    },
    {
      "cell_type": "code",
      "execution_count": 23,
      "metadata": {
        "id": "2MZUgNhgAaF2",
        "colab": {
          "base_uri": "https://localhost:8080/",
          "height": 119
        },
        "outputId": "b9e2c03b-623f-46ba-d5ce-4f21a2e293df"
      },
      "outputs": [
        {
          "output_type": "display_data",
          "data": {
            "image/png": "[encoded data removed]",
            "text/plain": [
              "<Figure size 864x216 with 10 Axes>"
            ]
          },
          "metadata": {
            "needs_background": "light"
          }
        }
      ],
      "source": [
        "# An example of the wrong predicted data\n",
        "_, axes = plt.subplots(nrows=1, ncols=10, figsize=(12, 3))\n",
        "for ax, image, predict, label in zip(axes, x_wrong[:10], y_wrong[:10], y_expected[:10]):\n",
        "  ax.set_axis_off()\n",
        "  ax.imshow(image.reshape(28,28), cmap=plt.cm.gray_r, interpolation=\"nearest\")\n",
        "  ax.set_title(\"Predict: %i\" % predict + \"\\nLabel: %i\" % label)"
      ]
    },
    {
      "cell_type": "code",
      "execution_count": 24,
      "metadata": {
        "id": "rt90rwK40OVh",
        "colab": {
          "base_uri": "https://localhost:8080/",
          "height": 119
        },
        "outputId": "90a10131-d19f-4e2d-81b2-b87458f7d60f"
      },
      "outputs": [
        {
          "output_type": "display_data",
          "data": {
            "image/png": "[encoded data removed]",
            "text/plain": [
              "<Figure size 864x216 with 10 Axes>"
            ]
          },
          "metadata": {
            "needs_background": "light"
          }
        }
      ],
      "source": [
        "_, axes = plt.subplots(nrows=1, ncols=10, figsize=(12, 3))\n",
        "for ax, image, predict, label in zip(axes, x_wrong[11:21], y_wrong[11:21], y_expected[11:21]):\n",
        "  ax.set_axis_off()\n",
        "  ax.imshow(image.reshape(28,28), cmap=plt.cm.gray_r, interpolation=\"nearest\")\n",
        "  ax.set_title(\"Predict: %i\" % predict + \"\\nLabel: %i\" % label)"
      ]
    },
    {
      "cell_type": "code",
      "execution_count": 25,
      "metadata": {
        "id": "pREkH8kqsGzR",
        "colab": {
          "base_uri": "https://localhost:8080/"
        },
        "outputId": "325c8e73-b6d6-4b4f-86ce-febd94a84d6f"
      },
      "outputs": [
        {
          "output_type": "execute_result",
          "data": {
            "text/plain": [
              "array([[848,   1,  14,  17,   4,   1, 108,   0,   7,   0],\n",
              "       [  3, 976,   1,  13,   3,   0,   4,   0,   0,   0],\n",
              "       [ 12,   0, 810,  10,  87,   1,  79,   1,   0,   0],\n",
              "       [ 30,   9,   9, 887,  37,   0,  26,   0,   2,   0],\n",
              "       [  1,   1,  70,  21, 864,   0,  40,   0,   3,   0],\n",
              "       [  0,   0,   0,   1,   0, 964,   0,  22,   1,  12],\n",
              "       [114,   0,  64,  23,  86,   0, 705,   0,   8,   0],\n",
              "       [  0,   0,   0,   0,   0,  17,   0, 964,   1,  18],\n",
              "       [  2,   0,   3,   6,   1,   2,   7,   1, 978,   0],\n",
              "       [  1,   0,   0,   0,   0,   6,   0,  37,   0, 956]])"
            ]
          },
          "metadata": {},
          "execution_count": 25
        }
      ],
      "source": [
        "confusion_matrix(y_test, y_pred)"
      ]
    }
  ],
  "metadata": {
    "colab": {
      "collapsed_sections": [],
      "name": "Fashion Products Recognition.ipynb",
      "provenance": []
    },
    "kernelspec": {
      "display_name": "Python 3",
      "name": "python3"
    },
    "language_info": {
      "name": "python"
    }
  },
  "nbformat": 4,
  "nbformat_minor": 0
}