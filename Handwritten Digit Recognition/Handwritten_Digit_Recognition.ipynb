{
  "nbformat": 4,
  "nbformat_minor": 0,
  "metadata": {
    "colab": {
      "name": "Handwritten Digit Recognition.ipynb",
      "provenance": [],
      "collapsed_sections": []
    },
    "kernelspec": {
      "name": "python3",
      "display_name": "Python 3"
    },
    "language_info": {
      "name": "python"
    }
  },
  "cells": [
    {
      "cell_type": "code",
      "execution_count": 1,
      "metadata": {
        "id": "RN6ahx-Yu_R_"
      },
      "outputs": [],
      "source": [
        "import numpy as np\n",
        "import pandas as pd\n",
        "import matplotlib.pyplot as plt\n",
        "import seaborn as sns\n",
        "import tensorflow as tf\n",
        "from tensorflow import keras\n",
        "from tensorflow.keras import layers, models\n",
        "from tensorflow.keras.utils import to_categorical\n",
        "from sklearn.model_selection import train_test_split\n",
        "from sklearn.metrics import f1_score, classification_report, confusion_matrix"
      ]
    },
    {
      "cell_type": "code",
      "source": [
        "# import the data\n",
        "(x_train, y_train), (x_test, y_test) = tf.keras.datasets.mnist.load_data()\n",
        "\n",
        "print(x_train.shape)\n",
        "print(y_train.shape)\n",
        "print(x_test.shape)\n",
        "print(y_test.shape)"
      ],
      "metadata": {
        "colab": {
          "base_uri": "https://localhost:8080/"
        },
        "id": "5FfnSEv9U2B2",
        "outputId": "ea24ba60-559b-4580-ad70-27d2eb48e35a"
      },
      "execution_count": 2,
      "outputs": [
        {
          "output_type": "stream",
          "name": "stdout",
          "text": [
            "Downloading data from https://storage.googleapis.com/tensorflow/tf-keras-datasets/mnist.npz\n",
            "11493376/11490434 [==============================] - 0s 0us/step\n",
            "11501568/11490434 [==============================] - 0s 0us/step\n",
            "(60000, 28, 28)\n",
            "(60000,)\n",
            "(10000, 28, 28)\n",
            "(10000,)\n"
          ]
        }
      ]
    },
    {
      "cell_type": "code",
      "source": [
        "# Example of the input data\n",
        "_, axes = plt.subplots(nrows=1, ncols=10, figsize=(12, 3))\n",
        "for ax, image, label in zip(axes, x_train[:10], y_train[:10]):\n",
        "    ax.set_axis_off()\n",
        "    ax.imshow(image.reshape(28,28), cmap=plt.cm.gray_r, interpolation=\"nearest\")\n",
        "    ax.set_title(\"Label: %i\" % label)"
      ],
      "metadata": {
        "colab": {
          "base_uri": "https://localhost:8080/",
          "height": 104
        },
        "id": "tM8HOZe1U3uP",
        "outputId": "053c0355-f18b-4955-e2db-a12a6dba7917"
      },
      "execution_count": 3,
      "outputs": [
        {
          "output_type": "display_data",
          "data": {
            "image/png": "[encoded data removed]",
            "text/plain": [
              "<Figure size 864x216 with 10 Axes>"
            ]
          },
          "metadata": {
            "needs_background": "light"
          }
        }
      ]
    },
    {
      "cell_type": "code",
      "source": [
        "x_train = x_train.reshape(60000,784)\n",
        "x_test = x_test.reshape(10000,784)"
      ],
      "metadata": {
        "id": "BFaj0v1ZBHYW"
      },
      "execution_count": 4,
      "outputs": []
    },
    {
      "cell_type": "code",
      "source": [
        "x_train, x_val, y_train, y_val = train_test_split(x_train, y_train, test_size=0.16666, random_state=42, stratify=y_train)"
      ],
      "metadata": {
        "id": "gT7DFtGAlW_i"
      },
      "execution_count": 5,
      "outputs": []
    },
    {
      "cell_type": "code",
      "source": [
        "x_train = x_train/255\n",
        "x_val = x_val/255\n",
        "x_test = x_test/255"
      ],
      "metadata": {
        "id": "aRhOUC98kekT"
      },
      "execution_count": 6,
      "outputs": []
    },
    {
      "cell_type": "code",
      "source": [
        "x_val.shape"
      ],
      "metadata": {
        "colab": {
          "base_uri": "https://localhost:8080/"
        },
        "id": "EFW5JEfJraHk",
        "outputId": "795837ec-e245-4615-b213-023d909a3542"
      },
      "execution_count": 7,
      "outputs": [
        {
          "output_type": "execute_result",
          "data": {
            "text/plain": [
              "(10000, 784)"
            ]
          },
          "metadata": {},
          "execution_count": 7
        }
      ]
    },
    {
      "cell_type": "code",
      "source": [
        "input_layer = layers.Input(shape=(784,))"
      ],
      "metadata": {
        "id": "S-Z5ZlqUbF5x"
      },
      "execution_count": 8,
      "outputs": []
    },
    {
      "cell_type": "code",
      "source": [
        "lambda_L = 1e-5\n",
        "\n",
        "hidden_layer = layers.Dense(512, activation = 'tanh', kernel_regularizer=keras.regularizers.L1(lambda_L))(input_layer)\n",
        "hidden_layer = layers.Dropout(0.1)(hidden_layer)\n",
        "\n",
        "hidden_layer = layers.Dense(256, activation = 'tanh', kernel_regularizer=keras.regularizers.L1(lambda_L))(hidden_layer)\n",
        "hidden_layer = layers.Dropout(0.1)(hidden_layer)\n",
        "\n",
        "hidden_layer = layers.Dense(128, activation = 'tanh', kernel_regularizer=keras.regularizers.L1(lambda_L))(hidden_layer)\n",
        "hidden_layer = layers.Dropout(0.1)(hidden_layer)\n",
        "\n",
        "hidden_layer = layers.Dense(64, activation = 'tanh', kernel_regularizer=keras.regularizers.L1(lambda_L))(hidden_layer)\n",
        "hidden_layer = layers.Dropout(0.1)(hidden_layer)\n",
        "\n",
        "hidden_layer = layers.Dense(32, activation = 'tanh', kernel_regularizer=keras.regularizers.L1(lambda_L))(hidden_layer)\n",
        "hidden_layer = layers.Dropout(0.1)(hidden_layer)"
      ],
      "metadata": {
        "id": "u6kmqyFNbqRG"
      },
      "execution_count": 9,
      "outputs": []
    },
    {
      "cell_type": "code",
      "source": [
        "output_layer = layers.Dense(10, activation='softmax')(hidden_layer)"
      ],
      "metadata": {
        "id": "FKXZ5bz-cEER"
      },
      "execution_count": 10,
      "outputs": []
    },
    {
      "cell_type": "code",
      "source": [
        "model = keras.Model(inputs = input_layer, outputs = output_layer)"
      ],
      "metadata": {
        "id": "jsawxnvXdTKA"
      },
      "execution_count": 11,
      "outputs": []
    },
    {
      "cell_type": "code",
      "source": [
        "model.summary()"
      ],
      "metadata": {
        "colab": {
          "base_uri": "https://localhost:8080/"
        },
        "id": "HGdh7Pbfd4AG",
        "outputId": "94c54741-1f3f-49eb-e0a3-65823f1b3af2"
      },
      "execution_count": 12,
      "outputs": [
        {
          "output_type": "stream",
          "name": "stdout",
          "text": [
            "Model: \"model\"\n",
            "_________________________________________________________________\n",
            " Layer (type)                Output Shape              Param #   \n",
            "=================================================================\n",
            " input_1 (InputLayer)        [(None, 784)]             0         \n",
            "                                                                 \n",
            " dense (Dense)               (None, 512)               401920    \n",
            "                                                                 \n",
            " dropout (Dropout)           (None, 512)               0         \n",
            "                                                                 \n",
            " dense_1 (Dense)             (None, 256)               131328    \n",
            "                                                                 \n",
            " dropout_1 (Dropout)         (None, 256)               0         \n",
            "                                                                 \n",
            " dense_2 (Dense)             (None, 128)               32896     \n",
            "                                                                 \n",
            " dropout_2 (Dropout)         (None, 128)               0         \n",
            "                                                                 \n",
            " dense_3 (Dense)             (None, 64)                8256      \n",
            "                                                                 \n",
            " dropout_3 (Dropout)         (None, 64)                0         \n",
            "                                                                 \n",
            " dense_4 (Dense)             (None, 32)                2080      \n",
            "                                                                 \n",
            " dropout_4 (Dropout)         (None, 32)                0         \n",
            "                                                                 \n",
            " dense_5 (Dense)             (None, 10)                330       \n",
            "                                                                 \n",
            "=================================================================\n",
            "Total params: 576,810\n",
            "Trainable params: 576,810\n",
            "Non-trainable params: 0\n",
            "_________________________________________________________________\n"
          ]
        }
      ]
    },
    {
      "cell_type": "code",
      "source": [
        "tf.keras.utils.plot_model(model)"
      ],
      "metadata": {
        "colab": {
          "base_uri": "https://localhost:8080/",
          "height": 1000
        },
        "id": "ENbtkafXd5hM",
        "outputId": "9cef82c3-b3f3-4ef5-deb7-af1b856fffff"
      },
      "execution_count": 13,
      "outputs": [
        {
          "output_type": "execute_result",
          "data": {
            "image/png": "[encoded data removed]",
            "text/plain": [
              "<IPython.core.display.Image object>"
            ]
          },
          "metadata": {},
          "execution_count": 13
        }
      ]
    },
    {
      "cell_type": "code",
      "source": [
        "model.compile(optimizer=keras.optimizers.Adam(learning_rate=1e-3), loss=keras.losses.SparseCategoricalCrossentropy(), metrics=[keras.metrics.SparseCategoricalAccuracy()])"
      ],
      "metadata": {
        "id": "TcoXiyFLeDDQ"
      },
      "execution_count": 14,
      "outputs": []
    },
    {
      "cell_type": "code",
      "source": [
        "earlyStop = keras.callbacks.EarlyStopping(monitor='val_loss', patience=30, restore_best_weights=True)"
      ],
      "metadata": {
        "id": "r5wcfZaHelOO"
      },
      "execution_count": 15,
      "outputs": []
    },
    {
      "cell_type": "code",
      "source": [
        "history = model.fit(x=x_train, y=y_train, batch_size=2048 , epochs=1000, callbacks=[earlyStop], validation_data=(x_val, y_val))"
      ],
      "metadata": {
        "colab": {
          "base_uri": "https://localhost:8080/"
        },
        "id": "l_LZX8iIey37",
        "outputId": "b8260598-03e7-4f65-80cb-24cb1ceeb3b5"
      },
      "execution_count": 16,
      "outputs": [
        {
          "output_type": "stream",
          "name": "stdout",
          "text": [
            "Epoch 1/1000\n",
            "25/25 [==============================] - 9s 277ms/step - loss: 1.3067 - sparse_categorical_accuracy: 0.6969 - val_loss: 0.7457 - val_sparse_categorical_accuracy: 0.8768\n",
            "Epoch 2/1000\n",
            "25/25 [==============================] - 7s 263ms/step - loss: 0.6966 - sparse_categorical_accuracy: 0.8820 - val_loss: 0.5487 - val_sparse_categorical_accuracy: 0.9054\n",
            "Epoch 3/1000\n",
            "25/25 [==============================] - 7s 285ms/step - loss: 0.5492 - sparse_categorical_accuracy: 0.9087 - val_loss: 0.4619 - val_sparse_categorical_accuracy: 0.9226\n",
            "Epoch 4/1000\n",
            "25/25 [==============================] - 7s 265ms/step - loss: 0.4760 - sparse_categorical_accuracy: 0.9230 - val_loss: 0.4225 - val_sparse_categorical_accuracy: 0.9328\n",
            "Epoch 5/1000\n",
            "25/25 [==============================] - 4s 164ms/step - loss: 0.4323 - sparse_categorical_accuracy: 0.9311 - val_loss: 0.3951 - val_sparse_categorical_accuracy: 0.9387\n",
            "Epoch 6/1000\n",
            "25/25 [==============================] - 3s 139ms/step - loss: 0.4011 - sparse_categorical_accuracy: 0.9390 - val_loss: 0.3672 - val_sparse_categorical_accuracy: 0.9438\n",
            "Epoch 7/1000\n",
            "25/25 [==============================] - 3s 140ms/step - loss: 0.3729 - sparse_categorical_accuracy: 0.9455 - val_loss: 0.3480 - val_sparse_categorical_accuracy: 0.9500\n",
            "Epoch 8/1000\n",
            "25/25 [==============================] - 3s 140ms/step - loss: 0.3521 - sparse_categorical_accuracy: 0.9492 - val_loss: 0.3301 - val_sparse_categorical_accuracy: 0.9530\n",
            "Epoch 9/1000\n",
            "25/25 [==============================] - 3s 139ms/step - loss: 0.3324 - sparse_categorical_accuracy: 0.9542 - val_loss: 0.3184 - val_sparse_categorical_accuracy: 0.9543\n",
            "Epoch 10/1000\n",
            "25/25 [==============================] - 3s 140ms/step - loss: 0.3143 - sparse_categorical_accuracy: 0.9591 - val_loss: 0.3054 - val_sparse_categorical_accuracy: 0.9577\n",
            "Epoch 11/1000\n",
            "25/25 [==============================] - 3s 139ms/step - loss: 0.3033 - sparse_categorical_accuracy: 0.9603 - val_loss: 0.2943 - val_sparse_categorical_accuracy: 0.9613\n",
            "Epoch 12/1000\n",
            "25/25 [==============================] - 3s 139ms/step - loss: 0.2910 - sparse_categorical_accuracy: 0.9641 - val_loss: 0.2891 - val_sparse_categorical_accuracy: 0.9630\n",
            "Epoch 13/1000\n",
            "25/25 [==============================] - 3s 139ms/step - loss: 0.2793 - sparse_categorical_accuracy: 0.9659 - val_loss: 0.2785 - val_sparse_categorical_accuracy: 0.9654\n",
            "Epoch 14/1000\n",
            "25/25 [==============================] - 3s 138ms/step - loss: 0.2687 - sparse_categorical_accuracy: 0.9685 - val_loss: 0.2777 - val_sparse_categorical_accuracy: 0.9646\n",
            "Epoch 15/1000\n",
            "25/25 [==============================] - 3s 138ms/step - loss: 0.2640 - sparse_categorical_accuracy: 0.9691 - val_loss: 0.2664 - val_sparse_categorical_accuracy: 0.9674\n",
            "Epoch 16/1000\n",
            "25/25 [==============================] - 3s 139ms/step - loss: 0.2547 - sparse_categorical_accuracy: 0.9714 - val_loss: 0.2668 - val_sparse_categorical_accuracy: 0.9677\n",
            "Epoch 17/1000\n",
            "25/25 [==============================] - 3s 137ms/step - loss: 0.2467 - sparse_categorical_accuracy: 0.9732 - val_loss: 0.2609 - val_sparse_categorical_accuracy: 0.9687\n",
            "Epoch 18/1000\n",
            "25/25 [==============================] - 3s 139ms/step - loss: 0.2426 - sparse_categorical_accuracy: 0.9738 - val_loss: 0.2517 - val_sparse_categorical_accuracy: 0.9716\n",
            "Epoch 19/1000\n",
            "25/25 [==============================] - 3s 139ms/step - loss: 0.2356 - sparse_categorical_accuracy: 0.9751 - val_loss: 0.2518 - val_sparse_categorical_accuracy: 0.9698\n",
            "Epoch 20/1000\n",
            "25/25 [==============================] - 3s 139ms/step - loss: 0.2314 - sparse_categorical_accuracy: 0.9755 - val_loss: 0.2491 - val_sparse_categorical_accuracy: 0.9721\n",
            "Epoch 21/1000\n",
            "25/25 [==============================] - 3s 139ms/step - loss: 0.2268 - sparse_categorical_accuracy: 0.9771 - val_loss: 0.2465 - val_sparse_categorical_accuracy: 0.9721\n",
            "Epoch 22/1000\n",
            "25/25 [==============================] - 3s 138ms/step - loss: 0.2180 - sparse_categorical_accuracy: 0.9789 - val_loss: 0.2404 - val_sparse_categorical_accuracy: 0.9734\n",
            "Epoch 23/1000\n",
            "25/25 [==============================] - 3s 138ms/step - loss: 0.2179 - sparse_categorical_accuracy: 0.9782 - val_loss: 0.2318 - val_sparse_categorical_accuracy: 0.9745\n",
            "Epoch 24/1000\n",
            "25/25 [==============================] - 3s 139ms/step - loss: 0.2119 - sparse_categorical_accuracy: 0.9799 - val_loss: 0.2298 - val_sparse_categorical_accuracy: 0.9742\n",
            "Epoch 25/1000\n",
            "25/25 [==============================] - 3s 139ms/step - loss: 0.2088 - sparse_categorical_accuracy: 0.9791 - val_loss: 0.2294 - val_sparse_categorical_accuracy: 0.9747\n",
            "Epoch 26/1000\n",
            "25/25 [==============================] - 3s 138ms/step - loss: 0.2050 - sparse_categorical_accuracy: 0.9816 - val_loss: 0.2272 - val_sparse_categorical_accuracy: 0.9753\n",
            "Epoch 27/1000\n",
            "25/25 [==============================] - 3s 138ms/step - loss: 0.1998 - sparse_categorical_accuracy: 0.9822 - val_loss: 0.2260 - val_sparse_categorical_accuracy: 0.9743\n",
            "Epoch 28/1000\n",
            "25/25 [==============================] - 3s 139ms/step - loss: 0.1955 - sparse_categorical_accuracy: 0.9833 - val_loss: 0.2205 - val_sparse_categorical_accuracy: 0.9765\n",
            "Epoch 29/1000\n",
            "25/25 [==============================] - 3s 139ms/step - loss: 0.1918 - sparse_categorical_accuracy: 0.9838 - val_loss: 0.2242 - val_sparse_categorical_accuracy: 0.9746\n",
            "Epoch 30/1000\n",
            "25/25 [==============================] - 3s 138ms/step - loss: 0.1924 - sparse_categorical_accuracy: 0.9834 - val_loss: 0.2196 - val_sparse_categorical_accuracy: 0.9758\n",
            "Epoch 31/1000\n",
            "25/25 [==============================] - 4s 140ms/step - loss: 0.1891 - sparse_categorical_accuracy: 0.9841 - val_loss: 0.2150 - val_sparse_categorical_accuracy: 0.9776\n",
            "Epoch 32/1000\n",
            "25/25 [==============================] - 3s 140ms/step - loss: 0.1839 - sparse_categorical_accuracy: 0.9856 - val_loss: 0.2188 - val_sparse_categorical_accuracy: 0.9771\n",
            "Epoch 33/1000\n",
            "25/25 [==============================] - 4s 164ms/step - loss: 0.1829 - sparse_categorical_accuracy: 0.9855 - val_loss: 0.2145 - val_sparse_categorical_accuracy: 0.9771\n",
            "Epoch 34/1000\n",
            "25/25 [==============================] - 3s 140ms/step - loss: 0.1815 - sparse_categorical_accuracy: 0.9858 - val_loss: 0.2125 - val_sparse_categorical_accuracy: 0.9771\n",
            "Epoch 35/1000\n",
            "25/25 [==============================] - 3s 139ms/step - loss: 0.1784 - sparse_categorical_accuracy: 0.9861 - val_loss: 0.2130 - val_sparse_categorical_accuracy: 0.9772\n",
            "Epoch 36/1000\n",
            "25/25 [==============================] - 3s 139ms/step - loss: 0.1781 - sparse_categorical_accuracy: 0.9862 - val_loss: 0.2098 - val_sparse_categorical_accuracy: 0.9782\n",
            "Epoch 37/1000\n",
            "25/25 [==============================] - 3s 139ms/step - loss: 0.1754 - sparse_categorical_accuracy: 0.9867 - val_loss: 0.2097 - val_sparse_categorical_accuracy: 0.9777\n",
            "Epoch 38/1000\n",
            "25/25 [==============================] - 3s 139ms/step - loss: 0.1700 - sparse_categorical_accuracy: 0.9878 - val_loss: 0.2101 - val_sparse_categorical_accuracy: 0.9780\n",
            "Epoch 39/1000\n",
            "25/25 [==============================] - 3s 139ms/step - loss: 0.1684 - sparse_categorical_accuracy: 0.9881 - val_loss: 0.2087 - val_sparse_categorical_accuracy: 0.9775\n",
            "Epoch 40/1000\n",
            "25/25 [==============================] - 3s 139ms/step - loss: 0.1685 - sparse_categorical_accuracy: 0.9878 - val_loss: 0.2084 - val_sparse_categorical_accuracy: 0.9779\n",
            "Epoch 41/1000\n",
            "25/25 [==============================] - 3s 139ms/step - loss: 0.1673 - sparse_categorical_accuracy: 0.9873 - val_loss: 0.2120 - val_sparse_categorical_accuracy: 0.9769\n",
            "Epoch 42/1000\n",
            "25/25 [==============================] - 3s 139ms/step - loss: 0.1709 - sparse_categorical_accuracy: 0.9854 - val_loss: 0.2056 - val_sparse_categorical_accuracy: 0.9781\n",
            "Epoch 43/1000\n",
            "25/25 [==============================] - 3s 139ms/step - loss: 0.1673 - sparse_categorical_accuracy: 0.9872 - val_loss: 0.2094 - val_sparse_categorical_accuracy: 0.9783\n",
            "Epoch 44/1000\n",
            "25/25 [==============================] - 3s 139ms/step - loss: 0.1633 - sparse_categorical_accuracy: 0.9879 - val_loss: 0.1986 - val_sparse_categorical_accuracy: 0.9801\n",
            "Epoch 45/1000\n",
            "25/25 [==============================] - 3s 139ms/step - loss: 0.1614 - sparse_categorical_accuracy: 0.9886 - val_loss: 0.2045 - val_sparse_categorical_accuracy: 0.9779\n",
            "Epoch 46/1000\n",
            "25/25 [==============================] - 3s 140ms/step - loss: 0.1598 - sparse_categorical_accuracy: 0.9886 - val_loss: 0.2084 - val_sparse_categorical_accuracy: 0.9771\n",
            "Epoch 47/1000\n",
            "25/25 [==============================] - 3s 138ms/step - loss: 0.1629 - sparse_categorical_accuracy: 0.9877 - val_loss: 0.2010 - val_sparse_categorical_accuracy: 0.9776\n",
            "Epoch 48/1000\n",
            "25/25 [==============================] - 3s 138ms/step - loss: 0.1561 - sparse_categorical_accuracy: 0.9891 - val_loss: 0.1998 - val_sparse_categorical_accuracy: 0.9777\n",
            "Epoch 49/1000\n",
            "25/25 [==============================] - 3s 140ms/step - loss: 0.1549 - sparse_categorical_accuracy: 0.9897 - val_loss: 0.1962 - val_sparse_categorical_accuracy: 0.9792\n",
            "Epoch 50/1000\n",
            "25/25 [==============================] - 3s 139ms/step - loss: 0.1539 - sparse_categorical_accuracy: 0.9898 - val_loss: 0.1967 - val_sparse_categorical_accuracy: 0.9795\n",
            "Epoch 51/1000\n",
            "25/25 [==============================] - 3s 138ms/step - loss: 0.1530 - sparse_categorical_accuracy: 0.9892 - val_loss: 0.1979 - val_sparse_categorical_accuracy: 0.9792\n",
            "Epoch 52/1000\n",
            "25/25 [==============================] - 3s 140ms/step - loss: 0.1514 - sparse_categorical_accuracy: 0.9897 - val_loss: 0.1916 - val_sparse_categorical_accuracy: 0.9803\n",
            "Epoch 53/1000\n",
            "25/25 [==============================] - 3s 140ms/step - loss: 0.1510 - sparse_categorical_accuracy: 0.9896 - val_loss: 0.1984 - val_sparse_categorical_accuracy: 0.9795\n",
            "Epoch 54/1000\n",
            "25/25 [==============================] - 3s 140ms/step - loss: 0.1489 - sparse_categorical_accuracy: 0.9904 - val_loss: 0.1949 - val_sparse_categorical_accuracy: 0.9799\n",
            "Epoch 55/1000\n",
            "25/25 [==============================] - 4s 140ms/step - loss: 0.1464 - sparse_categorical_accuracy: 0.9899 - val_loss: 0.1931 - val_sparse_categorical_accuracy: 0.9799\n",
            "Epoch 56/1000\n",
            "25/25 [==============================] - 3s 140ms/step - loss: 0.1463 - sparse_categorical_accuracy: 0.9902 - val_loss: 0.1954 - val_sparse_categorical_accuracy: 0.9802\n",
            "Epoch 57/1000\n",
            "25/25 [==============================] - 3s 140ms/step - loss: 0.1464 - sparse_categorical_accuracy: 0.9900 - val_loss: 0.1898 - val_sparse_categorical_accuracy: 0.9805\n",
            "Epoch 58/1000\n",
            "25/25 [==============================] - 4s 142ms/step - loss: 0.1426 - sparse_categorical_accuracy: 0.9912 - val_loss: 0.1927 - val_sparse_categorical_accuracy: 0.9793\n",
            "Epoch 59/1000\n",
            "25/25 [==============================] - 3s 139ms/step - loss: 0.1432 - sparse_categorical_accuracy: 0.9912 - val_loss: 0.1939 - val_sparse_categorical_accuracy: 0.9790\n",
            "Epoch 60/1000\n",
            "25/25 [==============================] - 3s 140ms/step - loss: 0.1422 - sparse_categorical_accuracy: 0.9909 - val_loss: 0.1867 - val_sparse_categorical_accuracy: 0.9817\n",
            "Epoch 61/1000\n",
            "25/25 [==============================] - 3s 139ms/step - loss: 0.1411 - sparse_categorical_accuracy: 0.9908 - val_loss: 0.1918 - val_sparse_categorical_accuracy: 0.9789\n",
            "Epoch 62/1000\n",
            "25/25 [==============================] - 3s 139ms/step - loss: 0.1421 - sparse_categorical_accuracy: 0.9902 - val_loss: 0.1866 - val_sparse_categorical_accuracy: 0.9810\n",
            "Epoch 63/1000\n",
            "25/25 [==============================] - 4s 167ms/step - loss: 0.1407 - sparse_categorical_accuracy: 0.9905 - val_loss: 0.1915 - val_sparse_categorical_accuracy: 0.9793\n",
            "Epoch 64/1000\n",
            "25/25 [==============================] - 4s 142ms/step - loss: 0.1397 - sparse_categorical_accuracy: 0.9912 - val_loss: 0.1860 - val_sparse_categorical_accuracy: 0.9812\n",
            "Epoch 65/1000\n",
            "25/25 [==============================] - 3s 140ms/step - loss: 0.1370 - sparse_categorical_accuracy: 0.9917 - val_loss: 0.1899 - val_sparse_categorical_accuracy: 0.9801\n",
            "Epoch 66/1000\n",
            "25/25 [==============================] - 3s 140ms/step - loss: 0.1369 - sparse_categorical_accuracy: 0.9916 - val_loss: 0.1884 - val_sparse_categorical_accuracy: 0.9799\n",
            "Epoch 67/1000\n",
            "25/25 [==============================] - 4s 141ms/step - loss: 0.1339 - sparse_categorical_accuracy: 0.9921 - val_loss: 0.1869 - val_sparse_categorical_accuracy: 0.9809\n",
            "Epoch 68/1000\n",
            "25/25 [==============================] - 3s 140ms/step - loss: 0.1359 - sparse_categorical_accuracy: 0.9914 - val_loss: 0.1823 - val_sparse_categorical_accuracy: 0.9809\n",
            "Epoch 69/1000\n",
            "25/25 [==============================] - 3s 140ms/step - loss: 0.1347 - sparse_categorical_accuracy: 0.9915 - val_loss: 0.1847 - val_sparse_categorical_accuracy: 0.9798\n",
            "Epoch 70/1000\n",
            "25/25 [==============================] - 3s 140ms/step - loss: 0.1344 - sparse_categorical_accuracy: 0.9916 - val_loss: 0.1837 - val_sparse_categorical_accuracy: 0.9802\n",
            "Epoch 71/1000\n",
            "25/25 [==============================] - 3s 139ms/step - loss: 0.1364 - sparse_categorical_accuracy: 0.9906 - val_loss: 0.1831 - val_sparse_categorical_accuracy: 0.9811\n",
            "Epoch 72/1000\n",
            "25/25 [==============================] - 3s 140ms/step - loss: 0.1363 - sparse_categorical_accuracy: 0.9907 - val_loss: 0.1943 - val_sparse_categorical_accuracy: 0.9779\n",
            "Epoch 73/1000\n",
            "25/25 [==============================] - 3s 140ms/step - loss: 0.1371 - sparse_categorical_accuracy: 0.9905 - val_loss: 0.1854 - val_sparse_categorical_accuracy: 0.9802\n",
            "Epoch 74/1000\n",
            "25/25 [==============================] - 3s 140ms/step - loss: 0.1329 - sparse_categorical_accuracy: 0.9913 - val_loss: 0.1855 - val_sparse_categorical_accuracy: 0.9803\n",
            "Epoch 75/1000\n",
            "25/25 [==============================] - 4s 141ms/step - loss: 0.1300 - sparse_categorical_accuracy: 0.9922 - val_loss: 0.1825 - val_sparse_categorical_accuracy: 0.9807\n",
            "Epoch 76/1000\n",
            "25/25 [==============================] - 3s 140ms/step - loss: 0.1323 - sparse_categorical_accuracy: 0.9909 - val_loss: 0.1797 - val_sparse_categorical_accuracy: 0.9820\n",
            "Epoch 77/1000\n",
            "25/25 [==============================] - 3s 139ms/step - loss: 0.1302 - sparse_categorical_accuracy: 0.9920 - val_loss: 0.1781 - val_sparse_categorical_accuracy: 0.9819\n",
            "Epoch 78/1000\n",
            "25/25 [==============================] - 3s 140ms/step - loss: 0.1287 - sparse_categorical_accuracy: 0.9923 - val_loss: 0.1763 - val_sparse_categorical_accuracy: 0.9817\n",
            "Epoch 79/1000\n",
            "25/25 [==============================] - 3s 141ms/step - loss: 0.1279 - sparse_categorical_accuracy: 0.9918 - val_loss: 0.1737 - val_sparse_categorical_accuracy: 0.9824\n",
            "Epoch 80/1000\n",
            "25/25 [==============================] - 4s 140ms/step - loss: 0.1287 - sparse_categorical_accuracy: 0.9920 - val_loss: 0.1776 - val_sparse_categorical_accuracy: 0.9810\n",
            "Epoch 81/1000\n",
            "25/25 [==============================] - 4s 140ms/step - loss: 0.1254 - sparse_categorical_accuracy: 0.9925 - val_loss: 0.1793 - val_sparse_categorical_accuracy: 0.9810\n",
            "Epoch 82/1000\n",
            "25/25 [==============================] - 3s 140ms/step - loss: 0.1246 - sparse_categorical_accuracy: 0.9926 - val_loss: 0.1774 - val_sparse_categorical_accuracy: 0.9812\n",
            "Epoch 83/1000\n",
            "25/25 [==============================] - 4s 141ms/step - loss: 0.1237 - sparse_categorical_accuracy: 0.9927 - val_loss: 0.1850 - val_sparse_categorical_accuracy: 0.9798\n",
            "Epoch 84/1000\n",
            "25/25 [==============================] - 4s 142ms/step - loss: 0.1221 - sparse_categorical_accuracy: 0.9930 - val_loss: 0.1760 - val_sparse_categorical_accuracy: 0.9809\n",
            "Epoch 85/1000\n",
            "25/25 [==============================] - 3s 140ms/step - loss: 0.1230 - sparse_categorical_accuracy: 0.9923 - val_loss: 0.1777 - val_sparse_categorical_accuracy: 0.9802\n",
            "Epoch 86/1000\n",
            "25/25 [==============================] - 4s 141ms/step - loss: 0.1228 - sparse_categorical_accuracy: 0.9925 - val_loss: 0.1766 - val_sparse_categorical_accuracy: 0.9811\n",
            "Epoch 87/1000\n",
            "25/25 [==============================] - 4s 141ms/step - loss: 0.1214 - sparse_categorical_accuracy: 0.9929 - val_loss: 0.1762 - val_sparse_categorical_accuracy: 0.9815\n",
            "Epoch 88/1000\n",
            "25/25 [==============================] - 3s 140ms/step - loss: 0.1241 - sparse_categorical_accuracy: 0.9916 - val_loss: 0.1744 - val_sparse_categorical_accuracy: 0.9817\n",
            "Epoch 89/1000\n",
            "25/25 [==============================] - 4s 142ms/step - loss: 0.1213 - sparse_categorical_accuracy: 0.9924 - val_loss: 0.1758 - val_sparse_categorical_accuracy: 0.9812\n",
            "Epoch 90/1000\n",
            "25/25 [==============================] - 4s 142ms/step - loss: 0.1187 - sparse_categorical_accuracy: 0.9934 - val_loss: 0.1777 - val_sparse_categorical_accuracy: 0.9805\n",
            "Epoch 91/1000\n",
            "25/25 [==============================] - 4s 141ms/step - loss: 0.1187 - sparse_categorical_accuracy: 0.9934 - val_loss: 0.1771 - val_sparse_categorical_accuracy: 0.9805\n",
            "Epoch 92/1000\n",
            "25/25 [==============================] - 4s 142ms/step - loss: 0.1197 - sparse_categorical_accuracy: 0.9924 - val_loss: 0.1731 - val_sparse_categorical_accuracy: 0.9812\n",
            "Epoch 93/1000\n",
            "25/25 [==============================] - 4s 142ms/step - loss: 0.1214 - sparse_categorical_accuracy: 0.9922 - val_loss: 0.1782 - val_sparse_categorical_accuracy: 0.9805\n",
            "Epoch 94/1000\n",
            "25/25 [==============================] - 4s 166ms/step - loss: 0.1186 - sparse_categorical_accuracy: 0.9929 - val_loss: 0.1755 - val_sparse_categorical_accuracy: 0.9805\n",
            "Epoch 95/1000\n",
            "25/25 [==============================] - 4s 142ms/step - loss: 0.1201 - sparse_categorical_accuracy: 0.9924 - val_loss: 0.1766 - val_sparse_categorical_accuracy: 0.9805\n",
            "Epoch 96/1000\n",
            "25/25 [==============================] - 4s 141ms/step - loss: 0.1172 - sparse_categorical_accuracy: 0.9931 - val_loss: 0.1721 - val_sparse_categorical_accuracy: 0.9825\n",
            "Epoch 97/1000\n",
            "25/25 [==============================] - 4s 141ms/step - loss: 0.1192 - sparse_categorical_accuracy: 0.9920 - val_loss: 0.1714 - val_sparse_categorical_accuracy: 0.9820\n",
            "Epoch 98/1000\n",
            "25/25 [==============================] - 4s 141ms/step - loss: 0.1157 - sparse_categorical_accuracy: 0.9931 - val_loss: 0.1677 - val_sparse_categorical_accuracy: 0.9820\n",
            "Epoch 99/1000\n",
            "25/25 [==============================] - 4s 141ms/step - loss: 0.1158 - sparse_categorical_accuracy: 0.9930 - val_loss: 0.1709 - val_sparse_categorical_accuracy: 0.9818\n",
            "Epoch 100/1000\n",
            "25/25 [==============================] - 3s 140ms/step - loss: 0.1154 - sparse_categorical_accuracy: 0.9931 - val_loss: 0.1697 - val_sparse_categorical_accuracy: 0.9824\n",
            "Epoch 101/1000\n",
            "25/25 [==============================] - 3s 139ms/step - loss: 0.1128 - sparse_categorical_accuracy: 0.9939 - val_loss: 0.1728 - val_sparse_categorical_accuracy: 0.9806\n",
            "Epoch 102/1000\n",
            "25/25 [==============================] - 4s 141ms/step - loss: 0.1117 - sparse_categorical_accuracy: 0.9936 - val_loss: 0.1663 - val_sparse_categorical_accuracy: 0.9829\n",
            "Epoch 103/1000\n",
            "25/25 [==============================] - 3s 140ms/step - loss: 0.1123 - sparse_categorical_accuracy: 0.9938 - val_loss: 0.1676 - val_sparse_categorical_accuracy: 0.9824\n",
            "Epoch 104/1000\n",
            "25/25 [==============================] - 3s 140ms/step - loss: 0.1115 - sparse_categorical_accuracy: 0.9936 - val_loss: 0.1707 - val_sparse_categorical_accuracy: 0.9820\n",
            "Epoch 105/1000\n",
            "25/25 [==============================] - 4s 141ms/step - loss: 0.1115 - sparse_categorical_accuracy: 0.9933 - val_loss: 0.1662 - val_sparse_categorical_accuracy: 0.9824\n",
            "Epoch 106/1000\n",
            "25/25 [==============================] - 3s 140ms/step - loss: 0.1148 - sparse_categorical_accuracy: 0.9924 - val_loss: 0.1730 - val_sparse_categorical_accuracy: 0.9811\n",
            "Epoch 107/1000\n",
            "25/25 [==============================] - 4s 141ms/step - loss: 0.1155 - sparse_categorical_accuracy: 0.9921 - val_loss: 0.1688 - val_sparse_categorical_accuracy: 0.9812\n",
            "Epoch 108/1000\n",
            "25/25 [==============================] - 4s 142ms/step - loss: 0.1127 - sparse_categorical_accuracy: 0.9930 - val_loss: 0.1670 - val_sparse_categorical_accuracy: 0.9826\n",
            "Epoch 109/1000\n",
            "25/25 [==============================] - 4s 142ms/step - loss: 0.1137 - sparse_categorical_accuracy: 0.9929 - val_loss: 0.1702 - val_sparse_categorical_accuracy: 0.9819\n",
            "Epoch 110/1000\n",
            "25/25 [==============================] - 4s 141ms/step - loss: 0.1131 - sparse_categorical_accuracy: 0.9927 - val_loss: 0.1688 - val_sparse_categorical_accuracy: 0.9818\n",
            "Epoch 111/1000\n",
            "25/25 [==============================] - 4s 141ms/step - loss: 0.1102 - sparse_categorical_accuracy: 0.9932 - val_loss: 0.1667 - val_sparse_categorical_accuracy: 0.9814\n",
            "Epoch 112/1000\n",
            "25/25 [==============================] - 4s 140ms/step - loss: 0.1116 - sparse_categorical_accuracy: 0.9928 - val_loss: 0.1686 - val_sparse_categorical_accuracy: 0.9813\n",
            "Epoch 113/1000\n",
            "25/25 [==============================] - 4s 141ms/step - loss: 0.1142 - sparse_categorical_accuracy: 0.9919 - val_loss: 0.1753 - val_sparse_categorical_accuracy: 0.9794\n",
            "Epoch 114/1000\n",
            "25/25 [==============================] - 4s 142ms/step - loss: 0.1101 - sparse_categorical_accuracy: 0.9934 - val_loss: 0.1589 - val_sparse_categorical_accuracy: 0.9826\n",
            "Epoch 115/1000\n",
            "25/25 [==============================] - 4s 141ms/step - loss: 0.1087 - sparse_categorical_accuracy: 0.9936 - val_loss: 0.1691 - val_sparse_categorical_accuracy: 0.9809\n",
            "Epoch 116/1000\n",
            "25/25 [==============================] - 4s 141ms/step - loss: 0.1085 - sparse_categorical_accuracy: 0.9936 - val_loss: 0.1667 - val_sparse_categorical_accuracy: 0.9815\n",
            "Epoch 117/1000\n",
            "25/25 [==============================] - 4s 141ms/step - loss: 0.1079 - sparse_categorical_accuracy: 0.9936 - val_loss: 0.1641 - val_sparse_categorical_accuracy: 0.9812\n",
            "Epoch 118/1000\n",
            "25/25 [==============================] - 3s 140ms/step - loss: 0.1069 - sparse_categorical_accuracy: 0.9942 - val_loss: 0.1651 - val_sparse_categorical_accuracy: 0.9818\n",
            "Epoch 119/1000\n",
            "25/25 [==============================] - 4s 141ms/step - loss: 0.1057 - sparse_categorical_accuracy: 0.9940 - val_loss: 0.1537 - val_sparse_categorical_accuracy: 0.9845\n",
            "Epoch 120/1000\n",
            "25/25 [==============================] - 4s 141ms/step - loss: 0.1058 - sparse_categorical_accuracy: 0.9938 - val_loss: 0.1565 - val_sparse_categorical_accuracy: 0.9835\n",
            "Epoch 121/1000\n",
            "25/25 [==============================] - 4s 141ms/step - loss: 0.1080 - sparse_categorical_accuracy: 0.9933 - val_loss: 0.1608 - val_sparse_categorical_accuracy: 0.9824\n",
            "Epoch 122/1000\n",
            "25/25 [==============================] - 4s 142ms/step - loss: 0.1056 - sparse_categorical_accuracy: 0.9937 - val_loss: 0.1623 - val_sparse_categorical_accuracy: 0.9827\n",
            "Epoch 123/1000\n",
            "25/25 [==============================] - 4s 141ms/step - loss: 0.1073 - sparse_categorical_accuracy: 0.9932 - val_loss: 0.1697 - val_sparse_categorical_accuracy: 0.9796\n",
            "Epoch 124/1000\n",
            "25/25 [==============================] - 4s 141ms/step - loss: 0.1059 - sparse_categorical_accuracy: 0.9937 - val_loss: 0.1575 - val_sparse_categorical_accuracy: 0.9835\n",
            "Epoch 125/1000\n",
            "25/25 [==============================] - 4s 142ms/step - loss: 0.1035 - sparse_categorical_accuracy: 0.9945 - val_loss: 0.1622 - val_sparse_categorical_accuracy: 0.9825\n",
            "Epoch 126/1000\n",
            "25/25 [==============================] - 4s 142ms/step - loss: 0.1047 - sparse_categorical_accuracy: 0.9936 - val_loss: 0.1605 - val_sparse_categorical_accuracy: 0.9827\n",
            "Epoch 127/1000\n",
            "25/25 [==============================] - 4s 140ms/step - loss: 0.1043 - sparse_categorical_accuracy: 0.9934 - val_loss: 0.1658 - val_sparse_categorical_accuracy: 0.9819\n",
            "Epoch 128/1000\n",
            "25/25 [==============================] - 3s 141ms/step - loss: 0.1089 - sparse_categorical_accuracy: 0.9924 - val_loss: 0.1677 - val_sparse_categorical_accuracy: 0.9801\n",
            "Epoch 129/1000\n",
            "25/25 [==============================] - 3s 140ms/step - loss: 0.1073 - sparse_categorical_accuracy: 0.9929 - val_loss: 0.1607 - val_sparse_categorical_accuracy: 0.9827\n",
            "Epoch 130/1000\n",
            "25/25 [==============================] - 4s 141ms/step - loss: 0.1029 - sparse_categorical_accuracy: 0.9944 - val_loss: 0.1598 - val_sparse_categorical_accuracy: 0.9819\n",
            "Epoch 131/1000\n",
            "25/25 [==============================] - 4s 142ms/step - loss: 0.1030 - sparse_categorical_accuracy: 0.9940 - val_loss: 0.1633 - val_sparse_categorical_accuracy: 0.9828\n",
            "Epoch 132/1000\n",
            "25/25 [==============================] - 4s 142ms/step - loss: 0.1018 - sparse_categorical_accuracy: 0.9944 - val_loss: 0.1596 - val_sparse_categorical_accuracy: 0.9833\n",
            "Epoch 133/1000\n",
            "25/25 [==============================] - 4s 141ms/step - loss: 0.1018 - sparse_categorical_accuracy: 0.9939 - val_loss: 0.1618 - val_sparse_categorical_accuracy: 0.9820\n",
            "Epoch 134/1000\n",
            "25/25 [==============================] - 4s 141ms/step - loss: 0.1016 - sparse_categorical_accuracy: 0.9940 - val_loss: 0.1629 - val_sparse_categorical_accuracy: 0.9832\n",
            "Epoch 135/1000\n",
            "25/25 [==============================] - 3s 140ms/step - loss: 0.1031 - sparse_categorical_accuracy: 0.9931 - val_loss: 0.1670 - val_sparse_categorical_accuracy: 0.9804\n",
            "Epoch 136/1000\n",
            "25/25 [==============================] - 3s 140ms/step - loss: 0.1052 - sparse_categorical_accuracy: 0.9931 - val_loss: 0.1592 - val_sparse_categorical_accuracy: 0.9835\n",
            "Epoch 137/1000\n",
            "25/25 [==============================] - 3s 140ms/step - loss: 0.1043 - sparse_categorical_accuracy: 0.9928 - val_loss: 0.1651 - val_sparse_categorical_accuracy: 0.9818\n",
            "Epoch 138/1000\n",
            "25/25 [==============================] - 3s 140ms/step - loss: 0.0999 - sparse_categorical_accuracy: 0.9945 - val_loss: 0.1603 - val_sparse_categorical_accuracy: 0.9836\n",
            "Epoch 139/1000\n",
            "25/25 [==============================] - 3s 140ms/step - loss: 0.0994 - sparse_categorical_accuracy: 0.9941 - val_loss: 0.1605 - val_sparse_categorical_accuracy: 0.9819\n",
            "Epoch 140/1000\n",
            "25/25 [==============================] - 4s 140ms/step - loss: 0.1010 - sparse_categorical_accuracy: 0.9939 - val_loss: 0.1642 - val_sparse_categorical_accuracy: 0.9819\n",
            "Epoch 141/1000\n",
            "25/25 [==============================] - 4s 141ms/step - loss: 0.1023 - sparse_categorical_accuracy: 0.9934 - val_loss: 0.1632 - val_sparse_categorical_accuracy: 0.9820\n",
            "Epoch 142/1000\n",
            "25/25 [==============================] - 3s 140ms/step - loss: 0.1009 - sparse_categorical_accuracy: 0.9938 - val_loss: 0.1616 - val_sparse_categorical_accuracy: 0.9824\n",
            "Epoch 143/1000\n",
            "25/25 [==============================] - 4s 141ms/step - loss: 0.1016 - sparse_categorical_accuracy: 0.9934 - val_loss: 0.1646 - val_sparse_categorical_accuracy: 0.9816\n",
            "Epoch 144/1000\n",
            "25/25 [==============================] - 4s 141ms/step - loss: 0.1010 - sparse_categorical_accuracy: 0.9936 - val_loss: 0.1614 - val_sparse_categorical_accuracy: 0.9810\n",
            "Epoch 145/1000\n",
            "25/25 [==============================] - 3s 140ms/step - loss: 0.0987 - sparse_categorical_accuracy: 0.9947 - val_loss: 0.1535 - val_sparse_categorical_accuracy: 0.9826\n",
            "Epoch 146/1000\n",
            "25/25 [==============================] - 4s 141ms/step - loss: 0.0964 - sparse_categorical_accuracy: 0.9947 - val_loss: 0.1641 - val_sparse_categorical_accuracy: 0.9807\n",
            "Epoch 147/1000\n",
            "25/25 [==============================] - 4s 141ms/step - loss: 0.0946 - sparse_categorical_accuracy: 0.9952 - val_loss: 0.1576 - val_sparse_categorical_accuracy: 0.9820\n",
            "Epoch 148/1000\n",
            "25/25 [==============================] - 4s 141ms/step - loss: 0.0992 - sparse_categorical_accuracy: 0.9937 - val_loss: 0.1560 - val_sparse_categorical_accuracy: 0.9829\n",
            "Epoch 149/1000\n",
            "25/25 [==============================] - 4s 143ms/step - loss: 0.0987 - sparse_categorical_accuracy: 0.9940 - val_loss: 0.1545 - val_sparse_categorical_accuracy: 0.9828\n",
            "Epoch 150/1000\n",
            "25/25 [==============================] - 4s 141ms/step - loss: 0.0970 - sparse_categorical_accuracy: 0.9943 - val_loss: 0.1596 - val_sparse_categorical_accuracy: 0.9828\n",
            "Epoch 151/1000\n",
            "25/25 [==============================] - 4s 141ms/step - loss: 0.0981 - sparse_categorical_accuracy: 0.9941 - val_loss: 0.1619 - val_sparse_categorical_accuracy: 0.9814\n",
            "Epoch 152/1000\n",
            "25/25 [==============================] - 4s 141ms/step - loss: 0.0989 - sparse_categorical_accuracy: 0.9938 - val_loss: 0.1578 - val_sparse_categorical_accuracy: 0.9827\n",
            "Epoch 153/1000\n",
            "25/25 [==============================] - 4s 141ms/step - loss: 0.0998 - sparse_categorical_accuracy: 0.9932 - val_loss: 0.1590 - val_sparse_categorical_accuracy: 0.9827\n",
            "Epoch 154/1000\n",
            "25/25 [==============================] - 4s 141ms/step - loss: 0.0972 - sparse_categorical_accuracy: 0.9943 - val_loss: 0.1576 - val_sparse_categorical_accuracy: 0.9822\n",
            "Epoch 155/1000\n",
            "25/25 [==============================] - 4s 141ms/step - loss: 0.0976 - sparse_categorical_accuracy: 0.9939 - val_loss: 0.1567 - val_sparse_categorical_accuracy: 0.9827\n",
            "Epoch 156/1000\n",
            "25/25 [==============================] - 3s 141ms/step - loss: 0.0982 - sparse_categorical_accuracy: 0.9935 - val_loss: 0.1643 - val_sparse_categorical_accuracy: 0.9802\n",
            "Epoch 157/1000\n",
            "25/25 [==============================] - 4s 141ms/step - loss: 0.0962 - sparse_categorical_accuracy: 0.9944 - val_loss: 0.1529 - val_sparse_categorical_accuracy: 0.9833\n",
            "Epoch 158/1000\n",
            "25/25 [==============================] - 4s 143ms/step - loss: 0.0940 - sparse_categorical_accuracy: 0.9948 - val_loss: 0.1614 - val_sparse_categorical_accuracy: 0.9812\n",
            "Epoch 159/1000\n",
            "25/25 [==============================] - 4s 141ms/step - loss: 0.0936 - sparse_categorical_accuracy: 0.9946 - val_loss: 0.1693 - val_sparse_categorical_accuracy: 0.9799\n",
            "Epoch 160/1000\n",
            "25/25 [==============================] - 4s 141ms/step - loss: 0.0964 - sparse_categorical_accuracy: 0.9937 - val_loss: 0.1570 - val_sparse_categorical_accuracy: 0.9821\n",
            "Epoch 161/1000\n",
            "25/25 [==============================] - 4s 141ms/step - loss: 0.0926 - sparse_categorical_accuracy: 0.9952 - val_loss: 0.1529 - val_sparse_categorical_accuracy: 0.9836\n",
            "Epoch 162/1000\n",
            "25/25 [==============================] - 4s 141ms/step - loss: 0.0916 - sparse_categorical_accuracy: 0.9951 - val_loss: 0.1542 - val_sparse_categorical_accuracy: 0.9823\n",
            "Epoch 163/1000\n",
            "25/25 [==============================] - 3s 141ms/step - loss: 0.0922 - sparse_categorical_accuracy: 0.9949 - val_loss: 0.1562 - val_sparse_categorical_accuracy: 0.9817\n",
            "Epoch 164/1000\n",
            "25/25 [==============================] - 4s 142ms/step - loss: 0.0935 - sparse_categorical_accuracy: 0.9943 - val_loss: 0.1485 - val_sparse_categorical_accuracy: 0.9838\n",
            "Epoch 165/1000\n",
            "25/25 [==============================] - 3s 140ms/step - loss: 0.0930 - sparse_categorical_accuracy: 0.9944 - val_loss: 0.1517 - val_sparse_categorical_accuracy: 0.9838\n",
            "Epoch 166/1000\n",
            "25/25 [==============================] - 4s 141ms/step - loss: 0.0916 - sparse_categorical_accuracy: 0.9951 - val_loss: 0.1576 - val_sparse_categorical_accuracy: 0.9823\n",
            "Epoch 167/1000\n",
            "25/25 [==============================] - 3s 140ms/step - loss: 0.0909 - sparse_categorical_accuracy: 0.9949 - val_loss: 0.1614 - val_sparse_categorical_accuracy: 0.9805\n",
            "Epoch 168/1000\n",
            "25/25 [==============================] - 4s 141ms/step - loss: 0.0893 - sparse_categorical_accuracy: 0.9954 - val_loss: 0.1527 - val_sparse_categorical_accuracy: 0.9817\n",
            "Epoch 169/1000\n",
            "25/25 [==============================] - 3s 140ms/step - loss: 0.0908 - sparse_categorical_accuracy: 0.9948 - val_loss: 0.1594 - val_sparse_categorical_accuracy: 0.9817\n",
            "Epoch 170/1000\n",
            "25/25 [==============================] - 4s 142ms/step - loss: 0.0928 - sparse_categorical_accuracy: 0.9941 - val_loss: 0.1544 - val_sparse_categorical_accuracy: 0.9828\n",
            "Epoch 171/1000\n",
            "25/25 [==============================] - 4s 141ms/step - loss: 0.0912 - sparse_categorical_accuracy: 0.9944 - val_loss: 0.1543 - val_sparse_categorical_accuracy: 0.9830\n",
            "Epoch 172/1000\n",
            "25/25 [==============================] - 4s 141ms/step - loss: 0.0922 - sparse_categorical_accuracy: 0.9944 - val_loss: 0.1586 - val_sparse_categorical_accuracy: 0.9820\n",
            "Epoch 173/1000\n",
            "25/25 [==============================] - 4s 141ms/step - loss: 0.0923 - sparse_categorical_accuracy: 0.9941 - val_loss: 0.1558 - val_sparse_categorical_accuracy: 0.9819\n",
            "Epoch 174/1000\n",
            "25/25 [==============================] - 4s 141ms/step - loss: 0.0899 - sparse_categorical_accuracy: 0.9950 - val_loss: 0.1532 - val_sparse_categorical_accuracy: 0.9832\n",
            "Epoch 175/1000\n",
            "25/25 [==============================] - 4s 143ms/step - loss: 0.0904 - sparse_categorical_accuracy: 0.9946 - val_loss: 0.1532 - val_sparse_categorical_accuracy: 0.9828\n",
            "Epoch 176/1000\n",
            "25/25 [==============================] - 4s 141ms/step - loss: 0.0951 - sparse_categorical_accuracy: 0.9933 - val_loss: 0.1577 - val_sparse_categorical_accuracy: 0.9806\n",
            "Epoch 177/1000\n",
            "25/25 [==============================] - 4s 142ms/step - loss: 0.0921 - sparse_categorical_accuracy: 0.9946 - val_loss: 0.1487 - val_sparse_categorical_accuracy: 0.9840\n",
            "Epoch 178/1000\n",
            "25/25 [==============================] - 4s 142ms/step - loss: 0.0888 - sparse_categorical_accuracy: 0.9952 - val_loss: 0.1530 - val_sparse_categorical_accuracy: 0.9834\n",
            "Epoch 179/1000\n",
            "25/25 [==============================] - 4s 143ms/step - loss: 0.0878 - sparse_categorical_accuracy: 0.9954 - val_loss: 0.1495 - val_sparse_categorical_accuracy: 0.9824\n",
            "Epoch 180/1000\n",
            "25/25 [==============================] - 4s 141ms/step - loss: 0.0881 - sparse_categorical_accuracy: 0.9951 - val_loss: 0.1530 - val_sparse_categorical_accuracy: 0.9819\n",
            "Epoch 181/1000\n",
            "25/25 [==============================] - 4s 142ms/step - loss: 0.0877 - sparse_categorical_accuracy: 0.9949 - val_loss: 0.1464 - val_sparse_categorical_accuracy: 0.9834\n",
            "Epoch 182/1000\n",
            "25/25 [==============================] - 4s 142ms/step - loss: 0.0888 - sparse_categorical_accuracy: 0.9948 - val_loss: 0.1507 - val_sparse_categorical_accuracy: 0.9814\n",
            "Epoch 183/1000\n",
            "25/25 [==============================] - 4s 143ms/step - loss: 0.0906 - sparse_categorical_accuracy: 0.9940 - val_loss: 0.1519 - val_sparse_categorical_accuracy: 0.9830\n",
            "Epoch 184/1000\n",
            "25/25 [==============================] - 4s 141ms/step - loss: 0.0897 - sparse_categorical_accuracy: 0.9946 - val_loss: 0.1518 - val_sparse_categorical_accuracy: 0.9822\n",
            "Epoch 185/1000\n",
            "25/25 [==============================] - 4s 141ms/step - loss: 0.0876 - sparse_categorical_accuracy: 0.9952 - val_loss: 0.1536 - val_sparse_categorical_accuracy: 0.9824\n",
            "Epoch 186/1000\n",
            "25/25 [==============================] - 4s 141ms/step - loss: 0.0885 - sparse_categorical_accuracy: 0.9945 - val_loss: 0.1470 - val_sparse_categorical_accuracy: 0.9833\n",
            "Epoch 187/1000\n",
            "25/25 [==============================] - 3s 139ms/step - loss: 0.0870 - sparse_categorical_accuracy: 0.9950 - val_loss: 0.1521 - val_sparse_categorical_accuracy: 0.9818\n",
            "Epoch 188/1000\n",
            "25/25 [==============================] - 4s 141ms/step - loss: 0.0872 - sparse_categorical_accuracy: 0.9948 - val_loss: 0.1460 - val_sparse_categorical_accuracy: 0.9833\n",
            "Epoch 189/1000\n",
            "25/25 [==============================] - 4s 141ms/step - loss: 0.0862 - sparse_categorical_accuracy: 0.9950 - val_loss: 0.1549 - val_sparse_categorical_accuracy: 0.9822\n",
            "Epoch 190/1000\n",
            "25/25 [==============================] - 4s 141ms/step - loss: 0.0858 - sparse_categorical_accuracy: 0.9953 - val_loss: 0.1445 - val_sparse_categorical_accuracy: 0.9844\n",
            "Epoch 191/1000\n",
            "25/25 [==============================] - 3s 140ms/step - loss: 0.0853 - sparse_categorical_accuracy: 0.9954 - val_loss: 0.1455 - val_sparse_categorical_accuracy: 0.9831\n",
            "Epoch 192/1000\n",
            "25/25 [==============================] - 3s 140ms/step - loss: 0.0849 - sparse_categorical_accuracy: 0.9956 - val_loss: 0.1462 - val_sparse_categorical_accuracy: 0.9835\n",
            "Epoch 193/1000\n",
            "25/25 [==============================] - 3s 140ms/step - loss: 0.0842 - sparse_categorical_accuracy: 0.9956 - val_loss: 0.1481 - val_sparse_categorical_accuracy: 0.9830\n",
            "Epoch 194/1000\n",
            "25/25 [==============================] - 4s 141ms/step - loss: 0.0839 - sparse_categorical_accuracy: 0.9955 - val_loss: 0.1456 - val_sparse_categorical_accuracy: 0.9849\n",
            "Epoch 195/1000\n",
            "25/25 [==============================] - 3s 140ms/step - loss: 0.0860 - sparse_categorical_accuracy: 0.9949 - val_loss: 0.1472 - val_sparse_categorical_accuracy: 0.9838\n",
            "Epoch 196/1000\n",
            "25/25 [==============================] - 3s 140ms/step - loss: 0.0908 - sparse_categorical_accuracy: 0.9931 - val_loss: 0.1536 - val_sparse_categorical_accuracy: 0.9816\n",
            "Epoch 197/1000\n",
            "25/25 [==============================] - 3s 140ms/step - loss: 0.0866 - sparse_categorical_accuracy: 0.9946 - val_loss: 0.1529 - val_sparse_categorical_accuracy: 0.9822\n",
            "Epoch 198/1000\n",
            "25/25 [==============================] - 4s 141ms/step - loss: 0.0849 - sparse_categorical_accuracy: 0.9952 - val_loss: 0.1431 - val_sparse_categorical_accuracy: 0.9843\n",
            "Epoch 199/1000\n",
            "25/25 [==============================] - 4s 141ms/step - loss: 0.0858 - sparse_categorical_accuracy: 0.9950 - val_loss: 0.1494 - val_sparse_categorical_accuracy: 0.9823\n",
            "Epoch 200/1000\n",
            "25/25 [==============================] - 4s 142ms/step - loss: 0.0876 - sparse_categorical_accuracy: 0.9940 - val_loss: 0.1575 - val_sparse_categorical_accuracy: 0.9805\n",
            "Epoch 201/1000\n",
            "25/25 [==============================] - 3s 140ms/step - loss: 0.0838 - sparse_categorical_accuracy: 0.9955 - val_loss: 0.1405 - val_sparse_categorical_accuracy: 0.9840\n",
            "Epoch 202/1000\n",
            "25/25 [==============================] - 3s 140ms/step - loss: 0.0846 - sparse_categorical_accuracy: 0.9945 - val_loss: 0.1464 - val_sparse_categorical_accuracy: 0.9840\n",
            "Epoch 203/1000\n",
            "25/25 [==============================] - 4s 141ms/step - loss: 0.0853 - sparse_categorical_accuracy: 0.9950 - val_loss: 0.1473 - val_sparse_categorical_accuracy: 0.9835\n",
            "Epoch 204/1000\n",
            "25/25 [==============================] - 4s 141ms/step - loss: 0.0856 - sparse_categorical_accuracy: 0.9944 - val_loss: 0.1466 - val_sparse_categorical_accuracy: 0.9834\n",
            "Epoch 205/1000\n",
            "25/25 [==============================] - 4s 141ms/step - loss: 0.0845 - sparse_categorical_accuracy: 0.9953 - val_loss: 0.1501 - val_sparse_categorical_accuracy: 0.9835\n",
            "Epoch 206/1000\n",
            "25/25 [==============================] - 4s 142ms/step - loss: 0.0860 - sparse_categorical_accuracy: 0.9948 - val_loss: 0.1483 - val_sparse_categorical_accuracy: 0.9832\n",
            "Epoch 207/1000\n",
            "25/25 [==============================] - 4s 143ms/step - loss: 0.0845 - sparse_categorical_accuracy: 0.9949 - val_loss: 0.1507 - val_sparse_categorical_accuracy: 0.9826\n",
            "Epoch 208/1000\n",
            "25/25 [==============================] - 4s 142ms/step - loss: 0.0824 - sparse_categorical_accuracy: 0.9954 - val_loss: 0.1548 - val_sparse_categorical_accuracy: 0.9816\n",
            "Epoch 209/1000\n",
            "25/25 [==============================] - 4s 145ms/step - loss: 0.0824 - sparse_categorical_accuracy: 0.9953 - val_loss: 0.1544 - val_sparse_categorical_accuracy: 0.9815\n",
            "Epoch 210/1000\n",
            "25/25 [==============================] - 4s 143ms/step - loss: 0.0815 - sparse_categorical_accuracy: 0.9957 - val_loss: 0.1439 - val_sparse_categorical_accuracy: 0.9840\n",
            "Epoch 211/1000\n",
            "25/25 [==============================] - 4s 144ms/step - loss: 0.0832 - sparse_categorical_accuracy: 0.9951 - val_loss: 0.1447 - val_sparse_categorical_accuracy: 0.9837\n",
            "Epoch 212/1000\n",
            "25/25 [==============================] - 4s 144ms/step - loss: 0.0820 - sparse_categorical_accuracy: 0.9956 - val_loss: 0.1522 - val_sparse_categorical_accuracy: 0.9818\n",
            "Epoch 213/1000\n",
            "25/25 [==============================] - 4s 144ms/step - loss: 0.0811 - sparse_categorical_accuracy: 0.9956 - val_loss: 0.1477 - val_sparse_categorical_accuracy: 0.9824\n",
            "Epoch 214/1000\n",
            "25/25 [==============================] - 4s 144ms/step - loss: 0.0799 - sparse_categorical_accuracy: 0.9959 - val_loss: 0.1459 - val_sparse_categorical_accuracy: 0.9833\n",
            "Epoch 215/1000\n",
            "25/25 [==============================] - 4s 144ms/step - loss: 0.0812 - sparse_categorical_accuracy: 0.9955 - val_loss: 0.1476 - val_sparse_categorical_accuracy: 0.9825\n",
            "Epoch 216/1000\n",
            "25/25 [==============================] - 4s 143ms/step - loss: 0.0798 - sparse_categorical_accuracy: 0.9957 - val_loss: 0.1422 - val_sparse_categorical_accuracy: 0.9831\n",
            "Epoch 217/1000\n",
            "25/25 [==============================] - 4s 143ms/step - loss: 0.0805 - sparse_categorical_accuracy: 0.9957 - val_loss: 0.1438 - val_sparse_categorical_accuracy: 0.9839\n",
            "Epoch 218/1000\n",
            "25/25 [==============================] - 4s 144ms/step - loss: 0.0794 - sparse_categorical_accuracy: 0.9959 - val_loss: 0.1426 - val_sparse_categorical_accuracy: 0.9840\n",
            "Epoch 219/1000\n",
            "25/25 [==============================] - 4s 142ms/step - loss: 0.0790 - sparse_categorical_accuracy: 0.9958 - val_loss: 0.1464 - val_sparse_categorical_accuracy: 0.9825\n",
            "Epoch 220/1000\n",
            "25/25 [==============================] - 4s 142ms/step - loss: 0.0804 - sparse_categorical_accuracy: 0.9954 - val_loss: 0.1490 - val_sparse_categorical_accuracy: 0.9829\n",
            "Epoch 221/1000\n",
            "25/25 [==============================] - 4s 143ms/step - loss: 0.0811 - sparse_categorical_accuracy: 0.9951 - val_loss: 0.1400 - val_sparse_categorical_accuracy: 0.9838\n",
            "Epoch 222/1000\n",
            "25/25 [==============================] - 4s 142ms/step - loss: 0.0810 - sparse_categorical_accuracy: 0.9952 - val_loss: 0.1451 - val_sparse_categorical_accuracy: 0.9829\n",
            "Epoch 223/1000\n",
            "25/25 [==============================] - 4s 143ms/step - loss: 0.0816 - sparse_categorical_accuracy: 0.9952 - val_loss: 0.1444 - val_sparse_categorical_accuracy: 0.9835\n",
            "Epoch 224/1000\n",
            "25/25 [==============================] - 4s 143ms/step - loss: 0.0825 - sparse_categorical_accuracy: 0.9950 - val_loss: 0.1427 - val_sparse_categorical_accuracy: 0.9829\n",
            "Epoch 225/1000\n",
            "25/25 [==============================] - 4s 143ms/step - loss: 0.0807 - sparse_categorical_accuracy: 0.9955 - val_loss: 0.1428 - val_sparse_categorical_accuracy: 0.9830\n",
            "Epoch 226/1000\n",
            "25/25 [==============================] - 4s 143ms/step - loss: 0.0799 - sparse_categorical_accuracy: 0.9956 - val_loss: 0.1457 - val_sparse_categorical_accuracy: 0.9833\n",
            "Epoch 227/1000\n",
            "25/25 [==============================] - 4s 144ms/step - loss: 0.0809 - sparse_categorical_accuracy: 0.9952 - val_loss: 0.1462 - val_sparse_categorical_accuracy: 0.9821\n",
            "Epoch 228/1000\n",
            "25/25 [==============================] - 4s 145ms/step - loss: 0.0805 - sparse_categorical_accuracy: 0.9953 - val_loss: 0.1456 - val_sparse_categorical_accuracy: 0.9821\n",
            "Epoch 229/1000\n",
            "25/25 [==============================] - 4s 142ms/step - loss: 0.0831 - sparse_categorical_accuracy: 0.9945 - val_loss: 0.1488 - val_sparse_categorical_accuracy: 0.9815\n",
            "Epoch 230/1000\n",
            "25/25 [==============================] - 4s 144ms/step - loss: 0.0809 - sparse_categorical_accuracy: 0.9950 - val_loss: 0.1478 - val_sparse_categorical_accuracy: 0.9830\n",
            "Epoch 231/1000\n",
            "25/25 [==============================] - 4s 143ms/step - loss: 0.0801 - sparse_categorical_accuracy: 0.9952 - val_loss: 0.1457 - val_sparse_categorical_accuracy: 0.9822\n",
            "Epoch 232/1000\n",
            "25/25 [==============================] - 4s 143ms/step - loss: 0.0774 - sparse_categorical_accuracy: 0.9959 - val_loss: 0.1424 - val_sparse_categorical_accuracy: 0.9837\n",
            "Epoch 233/1000\n",
            "25/25 [==============================] - 4s 145ms/step - loss: 0.0807 - sparse_categorical_accuracy: 0.9946 - val_loss: 0.1369 - val_sparse_categorical_accuracy: 0.9847\n",
            "Epoch 234/1000\n",
            "25/25 [==============================] - 4s 144ms/step - loss: 0.0780 - sparse_categorical_accuracy: 0.9956 - val_loss: 0.1402 - val_sparse_categorical_accuracy: 0.9843\n",
            "Epoch 235/1000\n",
            "25/25 [==============================] - 4s 142ms/step - loss: 0.0763 - sparse_categorical_accuracy: 0.9963 - val_loss: 0.1377 - val_sparse_categorical_accuracy: 0.9839\n",
            "Epoch 236/1000\n",
            "25/25 [==============================] - 4s 144ms/step - loss: 0.0800 - sparse_categorical_accuracy: 0.9948 - val_loss: 0.1435 - val_sparse_categorical_accuracy: 0.9831\n",
            "Epoch 237/1000\n",
            "25/25 [==============================] - 4s 143ms/step - loss: 0.0820 - sparse_categorical_accuracy: 0.9941 - val_loss: 0.1511 - val_sparse_categorical_accuracy: 0.9816\n",
            "Epoch 238/1000\n",
            "25/25 [==============================] - 4s 144ms/step - loss: 0.0815 - sparse_categorical_accuracy: 0.9947 - val_loss: 0.1429 - val_sparse_categorical_accuracy: 0.9832\n",
            "Epoch 239/1000\n",
            "25/25 [==============================] - 4s 143ms/step - loss: 0.0795 - sparse_categorical_accuracy: 0.9948 - val_loss: 0.1408 - val_sparse_categorical_accuracy: 0.9834\n",
            "Epoch 240/1000\n",
            "25/25 [==============================] - 4s 144ms/step - loss: 0.0780 - sparse_categorical_accuracy: 0.9958 - val_loss: 0.1432 - val_sparse_categorical_accuracy: 0.9833\n",
            "Epoch 241/1000\n",
            "25/25 [==============================] - 4s 143ms/step - loss: 0.0794 - sparse_categorical_accuracy: 0.9951 - val_loss: 0.1412 - val_sparse_categorical_accuracy: 0.9835\n",
            "Epoch 242/1000\n",
            "25/25 [==============================] - 4s 142ms/step - loss: 0.0788 - sparse_categorical_accuracy: 0.9953 - val_loss: 0.1393 - val_sparse_categorical_accuracy: 0.9838\n",
            "Epoch 243/1000\n",
            "25/25 [==============================] - 4s 144ms/step - loss: 0.0765 - sparse_categorical_accuracy: 0.9960 - val_loss: 0.1401 - val_sparse_categorical_accuracy: 0.9834\n",
            "Epoch 244/1000\n",
            "25/25 [==============================] - 4s 144ms/step - loss: 0.0762 - sparse_categorical_accuracy: 0.9960 - val_loss: 0.1386 - val_sparse_categorical_accuracy: 0.9839\n",
            "Epoch 245/1000\n",
            "25/25 [==============================] - 4s 143ms/step - loss: 0.0787 - sparse_categorical_accuracy: 0.9952 - val_loss: 0.1476 - val_sparse_categorical_accuracy: 0.9813\n",
            "Epoch 246/1000\n",
            "25/25 [==============================] - 4s 143ms/step - loss: 0.0804 - sparse_categorical_accuracy: 0.9949 - val_loss: 0.1486 - val_sparse_categorical_accuracy: 0.9818\n",
            "Epoch 247/1000\n",
            "25/25 [==============================] - 4s 144ms/step - loss: 0.0791 - sparse_categorical_accuracy: 0.9950 - val_loss: 0.1434 - val_sparse_categorical_accuracy: 0.9832\n",
            "Epoch 248/1000\n",
            "25/25 [==============================] - 4s 143ms/step - loss: 0.0768 - sparse_categorical_accuracy: 0.9960 - val_loss: 0.1426 - val_sparse_categorical_accuracy: 0.9846\n",
            "Epoch 249/1000\n",
            "25/25 [==============================] - 4s 144ms/step - loss: 0.0756 - sparse_categorical_accuracy: 0.9960 - val_loss: 0.1410 - val_sparse_categorical_accuracy: 0.9835\n",
            "Epoch 250/1000\n",
            "25/25 [==============================] - 4s 143ms/step - loss: 0.0766 - sparse_categorical_accuracy: 0.9957 - val_loss: 0.1356 - val_sparse_categorical_accuracy: 0.9841\n",
            "Epoch 251/1000\n",
            "25/25 [==============================] - 4s 143ms/step - loss: 0.0779 - sparse_categorical_accuracy: 0.9950 - val_loss: 0.1427 - val_sparse_categorical_accuracy: 0.9838\n",
            "Epoch 252/1000\n",
            "25/25 [==============================] - 4s 144ms/step - loss: 0.0773 - sparse_categorical_accuracy: 0.9956 - val_loss: 0.1395 - val_sparse_categorical_accuracy: 0.9842\n",
            "Epoch 253/1000\n",
            "25/25 [==============================] - 4s 144ms/step - loss: 0.0765 - sparse_categorical_accuracy: 0.9955 - val_loss: 0.1407 - val_sparse_categorical_accuracy: 0.9832\n",
            "Epoch 254/1000\n",
            "25/25 [==============================] - 4s 143ms/step - loss: 0.0779 - sparse_categorical_accuracy: 0.9947 - val_loss: 0.1446 - val_sparse_categorical_accuracy: 0.9828\n",
            "Epoch 255/1000\n",
            "25/25 [==============================] - 4s 143ms/step - loss: 0.0775 - sparse_categorical_accuracy: 0.9953 - val_loss: 0.1391 - val_sparse_categorical_accuracy: 0.9840\n",
            "Epoch 256/1000\n",
            "25/25 [==============================] - 4s 143ms/step - loss: 0.0763 - sparse_categorical_accuracy: 0.9956 - val_loss: 0.1462 - val_sparse_categorical_accuracy: 0.9827\n",
            "Epoch 257/1000\n",
            "25/25 [==============================] - 4s 144ms/step - loss: 0.0772 - sparse_categorical_accuracy: 0.9954 - val_loss: 0.1413 - val_sparse_categorical_accuracy: 0.9828\n",
            "Epoch 258/1000\n",
            "25/25 [==============================] - 4s 143ms/step - loss: 0.0763 - sparse_categorical_accuracy: 0.9954 - val_loss: 0.1574 - val_sparse_categorical_accuracy: 0.9803\n",
            "Epoch 259/1000\n",
            "25/25 [==============================] - 4s 144ms/step - loss: 0.0813 - sparse_categorical_accuracy: 0.9941 - val_loss: 0.1410 - val_sparse_categorical_accuracy: 0.9831\n",
            "Epoch 260/1000\n",
            "25/25 [==============================] - 4s 144ms/step - loss: 0.0770 - sparse_categorical_accuracy: 0.9955 - val_loss: 0.1402 - val_sparse_categorical_accuracy: 0.9827\n",
            "Epoch 261/1000\n",
            "25/25 [==============================] - 4s 145ms/step - loss: 0.0752 - sparse_categorical_accuracy: 0.9959 - val_loss: 0.1401 - val_sparse_categorical_accuracy: 0.9835\n",
            "Epoch 262/1000\n",
            "25/25 [==============================] - 4s 146ms/step - loss: 0.0763 - sparse_categorical_accuracy: 0.9955 - val_loss: 0.1375 - val_sparse_categorical_accuracy: 0.9839\n",
            "Epoch 263/1000\n",
            "25/25 [==============================] - 4s 147ms/step - loss: 0.0754 - sparse_categorical_accuracy: 0.9957 - val_loss: 0.1403 - val_sparse_categorical_accuracy: 0.9840\n",
            "Epoch 264/1000\n",
            "25/25 [==============================] - 4s 144ms/step - loss: 0.0765 - sparse_categorical_accuracy: 0.9954 - val_loss: 0.1417 - val_sparse_categorical_accuracy: 0.9835\n",
            "Epoch 265/1000\n",
            "25/25 [==============================] - 4s 144ms/step - loss: 0.0762 - sparse_categorical_accuracy: 0.9954 - val_loss: 0.1453 - val_sparse_categorical_accuracy: 0.9823\n",
            "Epoch 266/1000\n",
            "25/25 [==============================] - 4s 144ms/step - loss: 0.0754 - sparse_categorical_accuracy: 0.9954 - val_loss: 0.1434 - val_sparse_categorical_accuracy: 0.9832\n",
            "Epoch 267/1000\n",
            "25/25 [==============================] - 4s 145ms/step - loss: 0.0759 - sparse_categorical_accuracy: 0.9949 - val_loss: 0.1398 - val_sparse_categorical_accuracy: 0.9835\n",
            "Epoch 268/1000\n",
            "25/25 [==============================] - 4s 145ms/step - loss: 0.0755 - sparse_categorical_accuracy: 0.9955 - val_loss: 0.1376 - val_sparse_categorical_accuracy: 0.9833\n",
            "Epoch 269/1000\n",
            "25/25 [==============================] - 4s 144ms/step - loss: 0.0736 - sparse_categorical_accuracy: 0.9961 - val_loss: 0.1375 - val_sparse_categorical_accuracy: 0.9838\n",
            "Epoch 270/1000\n",
            "25/25 [==============================] - 4s 143ms/step - loss: 0.0740 - sparse_categorical_accuracy: 0.9956 - val_loss: 0.1419 - val_sparse_categorical_accuracy: 0.9828\n",
            "Epoch 271/1000\n",
            "25/25 [==============================] - 4s 144ms/step - loss: 0.0737 - sparse_categorical_accuracy: 0.9958 - val_loss: 0.1396 - val_sparse_categorical_accuracy: 0.9828\n",
            "Epoch 272/1000\n",
            "25/25 [==============================] - 4s 142ms/step - loss: 0.0728 - sparse_categorical_accuracy: 0.9962 - val_loss: 0.1384 - val_sparse_categorical_accuracy: 0.9834\n",
            "Epoch 273/1000\n",
            "25/25 [==============================] - 4s 145ms/step - loss: 0.0748 - sparse_categorical_accuracy: 0.9955 - val_loss: 0.1427 - val_sparse_categorical_accuracy: 0.9826\n",
            "Epoch 274/1000\n",
            "25/25 [==============================] - 4s 144ms/step - loss: 0.0735 - sparse_categorical_accuracy: 0.9958 - val_loss: 0.1352 - val_sparse_categorical_accuracy: 0.9834\n",
            "Epoch 275/1000\n",
            "25/25 [==============================] - 4s 144ms/step - loss: 0.0755 - sparse_categorical_accuracy: 0.9954 - val_loss: 0.1376 - val_sparse_categorical_accuracy: 0.9838\n",
            "Epoch 276/1000\n",
            "25/25 [==============================] - 4s 144ms/step - loss: 0.0742 - sparse_categorical_accuracy: 0.9957 - val_loss: 0.1402 - val_sparse_categorical_accuracy: 0.9834\n",
            "Epoch 277/1000\n",
            "25/25 [==============================] - 4s 144ms/step - loss: 0.0732 - sparse_categorical_accuracy: 0.9960 - val_loss: 0.1369 - val_sparse_categorical_accuracy: 0.9841\n",
            "Epoch 278/1000\n",
            "25/25 [==============================] - 4s 145ms/step - loss: 0.0732 - sparse_categorical_accuracy: 0.9961 - val_loss: 0.1349 - val_sparse_categorical_accuracy: 0.9839\n",
            "Epoch 279/1000\n",
            "25/25 [==============================] - 4s 145ms/step - loss: 0.0718 - sparse_categorical_accuracy: 0.9963 - val_loss: 0.1411 - val_sparse_categorical_accuracy: 0.9824\n",
            "Epoch 280/1000\n",
            "25/25 [==============================] - 4s 143ms/step - loss: 0.0730 - sparse_categorical_accuracy: 0.9957 - val_loss: 0.1435 - val_sparse_categorical_accuracy: 0.9826\n",
            "Epoch 281/1000\n",
            "25/25 [==============================] - 4s 143ms/step - loss: 0.0746 - sparse_categorical_accuracy: 0.9950 - val_loss: 0.1447 - val_sparse_categorical_accuracy: 0.9823\n",
            "Epoch 282/1000\n",
            "25/25 [==============================] - 4s 144ms/step - loss: 0.0733 - sparse_categorical_accuracy: 0.9959 - val_loss: 0.1416 - val_sparse_categorical_accuracy: 0.9830\n",
            "Epoch 283/1000\n",
            "25/25 [==============================] - 4s 144ms/step - loss: 0.0727 - sparse_categorical_accuracy: 0.9959 - val_loss: 0.1389 - val_sparse_categorical_accuracy: 0.9831\n",
            "Epoch 284/1000\n",
            "25/25 [==============================] - 4s 144ms/step - loss: 0.0748 - sparse_categorical_accuracy: 0.9950 - val_loss: 0.1418 - val_sparse_categorical_accuracy: 0.9841\n",
            "Epoch 285/1000\n",
            "25/25 [==============================] - 4s 145ms/step - loss: 0.0723 - sparse_categorical_accuracy: 0.9961 - val_loss: 0.1387 - val_sparse_categorical_accuracy: 0.9830\n",
            "Epoch 286/1000\n",
            "25/25 [==============================] - 4s 144ms/step - loss: 0.0742 - sparse_categorical_accuracy: 0.9956 - val_loss: 0.1396 - val_sparse_categorical_accuracy: 0.9845\n",
            "Epoch 287/1000\n",
            "25/25 [==============================] - 4s 144ms/step - loss: 0.0732 - sparse_categorical_accuracy: 0.9956 - val_loss: 0.1370 - val_sparse_categorical_accuracy: 0.9832\n",
            "Epoch 288/1000\n",
            "25/25 [==============================] - 4s 144ms/step - loss: 0.0711 - sparse_categorical_accuracy: 0.9965 - val_loss: 0.1335 - val_sparse_categorical_accuracy: 0.9847\n",
            "Epoch 289/1000\n",
            "25/25 [==============================] - 4s 143ms/step - loss: 0.0729 - sparse_categorical_accuracy: 0.9959 - val_loss: 0.1363 - val_sparse_categorical_accuracy: 0.9836\n",
            "Epoch 290/1000\n",
            "25/25 [==============================] - 4s 143ms/step - loss: 0.0742 - sparse_categorical_accuracy: 0.9950 - val_loss: 0.1411 - val_sparse_categorical_accuracy: 0.9823\n",
            "Epoch 291/1000\n",
            "25/25 [==============================] - 4s 144ms/step - loss: 0.0734 - sparse_categorical_accuracy: 0.9957 - val_loss: 0.1416 - val_sparse_categorical_accuracy: 0.9839\n",
            "Epoch 292/1000\n",
            "25/25 [==============================] - 4s 143ms/step - loss: 0.0747 - sparse_categorical_accuracy: 0.9949 - val_loss: 0.1383 - val_sparse_categorical_accuracy: 0.9826\n",
            "Epoch 293/1000\n",
            "25/25 [==============================] - 4s 145ms/step - loss: 0.0737 - sparse_categorical_accuracy: 0.9958 - val_loss: 0.1341 - val_sparse_categorical_accuracy: 0.9846\n",
            "Epoch 294/1000\n",
            "25/25 [==============================] - 4s 143ms/step - loss: 0.0707 - sparse_categorical_accuracy: 0.9963 - val_loss: 0.1321 - val_sparse_categorical_accuracy: 0.9845\n",
            "Epoch 295/1000\n",
            "25/25 [==============================] - 4s 145ms/step - loss: 0.0700 - sparse_categorical_accuracy: 0.9967 - val_loss: 0.1338 - val_sparse_categorical_accuracy: 0.9842\n",
            "Epoch 296/1000\n",
            "25/25 [==============================] - 4s 143ms/step - loss: 0.0737 - sparse_categorical_accuracy: 0.9954 - val_loss: 0.1400 - val_sparse_categorical_accuracy: 0.9828\n",
            "Epoch 297/1000\n",
            "25/25 [==============================] - 4s 144ms/step - loss: 0.0758 - sparse_categorical_accuracy: 0.9950 - val_loss: 0.1440 - val_sparse_categorical_accuracy: 0.9819\n",
            "Epoch 298/1000\n",
            "25/25 [==============================] - 4s 143ms/step - loss: 0.0726 - sparse_categorical_accuracy: 0.9957 - val_loss: 0.1413 - val_sparse_categorical_accuracy: 0.9836\n",
            "Epoch 299/1000\n",
            "25/25 [==============================] - 4s 143ms/step - loss: 0.0729 - sparse_categorical_accuracy: 0.9957 - val_loss: 0.1401 - val_sparse_categorical_accuracy: 0.9835\n",
            "Epoch 300/1000\n",
            "25/25 [==============================] - 4s 145ms/step - loss: 0.0710 - sparse_categorical_accuracy: 0.9964 - val_loss: 0.1391 - val_sparse_categorical_accuracy: 0.9834\n",
            "Epoch 301/1000\n",
            "25/25 [==============================] - 4s 144ms/step - loss: 0.0709 - sparse_categorical_accuracy: 0.9959 - val_loss: 0.1386 - val_sparse_categorical_accuracy: 0.9833\n",
            "Epoch 302/1000\n",
            "25/25 [==============================] - 4s 144ms/step - loss: 0.0715 - sparse_categorical_accuracy: 0.9960 - val_loss: 0.1336 - val_sparse_categorical_accuracy: 0.9839\n",
            "Epoch 303/1000\n",
            "25/25 [==============================] - 4s 145ms/step - loss: 0.0700 - sparse_categorical_accuracy: 0.9963 - val_loss: 0.1352 - val_sparse_categorical_accuracy: 0.9841\n",
            "Epoch 304/1000\n",
            "25/25 [==============================] - 4s 144ms/step - loss: 0.0702 - sparse_categorical_accuracy: 0.9961 - val_loss: 0.1402 - val_sparse_categorical_accuracy: 0.9839\n",
            "Epoch 305/1000\n",
            "25/25 [==============================] - 4s 145ms/step - loss: 0.0701 - sparse_categorical_accuracy: 0.9964 - val_loss: 0.1405 - val_sparse_categorical_accuracy: 0.9841\n",
            "Epoch 306/1000\n",
            "25/25 [==============================] - 4s 144ms/step - loss: 0.0703 - sparse_categorical_accuracy: 0.9961 - val_loss: 0.1312 - val_sparse_categorical_accuracy: 0.9846\n",
            "Epoch 307/1000\n",
            "25/25 [==============================] - 4s 143ms/step - loss: 0.0730 - sparse_categorical_accuracy: 0.9955 - val_loss: 0.1371 - val_sparse_categorical_accuracy: 0.9834\n",
            "Epoch 308/1000\n",
            "25/25 [==============================] - 4s 143ms/step - loss: 0.0706 - sparse_categorical_accuracy: 0.9961 - val_loss: 0.1388 - val_sparse_categorical_accuracy: 0.9836\n",
            "Epoch 309/1000\n",
            "25/25 [==============================] - 4s 144ms/step - loss: 0.0697 - sparse_categorical_accuracy: 0.9964 - val_loss: 0.1390 - val_sparse_categorical_accuracy: 0.9831\n",
            "Epoch 310/1000\n",
            "25/25 [==============================] - 4s 145ms/step - loss: 0.0696 - sparse_categorical_accuracy: 0.9964 - val_loss: 0.1417 - val_sparse_categorical_accuracy: 0.9824\n",
            "Epoch 311/1000\n",
            "25/25 [==============================] - 4s 146ms/step - loss: 0.0709 - sparse_categorical_accuracy: 0.9958 - val_loss: 0.1369 - val_sparse_categorical_accuracy: 0.9840\n",
            "Epoch 312/1000\n",
            "25/25 [==============================] - 4s 144ms/step - loss: 0.0705 - sparse_categorical_accuracy: 0.9960 - val_loss: 0.1345 - val_sparse_categorical_accuracy: 0.9843\n",
            "Epoch 313/1000\n",
            "25/25 [==============================] - 4s 145ms/step - loss: 0.0701 - sparse_categorical_accuracy: 0.9961 - val_loss: 0.1426 - val_sparse_categorical_accuracy: 0.9830\n",
            "Epoch 314/1000\n",
            "25/25 [==============================] - 4s 144ms/step - loss: 0.0700 - sparse_categorical_accuracy: 0.9960 - val_loss: 0.1386 - val_sparse_categorical_accuracy: 0.9828\n",
            "Epoch 315/1000\n",
            "25/25 [==============================] - 4s 144ms/step - loss: 0.0702 - sparse_categorical_accuracy: 0.9957 - val_loss: 0.1409 - val_sparse_categorical_accuracy: 0.9822\n",
            "Epoch 316/1000\n",
            "25/25 [==============================] - 4s 146ms/step - loss: 0.0708 - sparse_categorical_accuracy: 0.9955 - val_loss: 0.1419 - val_sparse_categorical_accuracy: 0.9836\n",
            "Epoch 317/1000\n",
            "25/25 [==============================] - 4s 145ms/step - loss: 0.0692 - sparse_categorical_accuracy: 0.9964 - val_loss: 0.1397 - val_sparse_categorical_accuracy: 0.9832\n",
            "Epoch 318/1000\n",
            "25/25 [==============================] - 4s 145ms/step - loss: 0.0714 - sparse_categorical_accuracy: 0.9952 - val_loss: 0.1519 - val_sparse_categorical_accuracy: 0.9817\n",
            "Epoch 319/1000\n",
            "25/25 [==============================] - 4s 144ms/step - loss: 0.0693 - sparse_categorical_accuracy: 0.9964 - val_loss: 0.1348 - val_sparse_categorical_accuracy: 0.9835\n",
            "Epoch 320/1000\n",
            "25/25 [==============================] - 4s 144ms/step - loss: 0.0692 - sparse_categorical_accuracy: 0.9961 - val_loss: 0.1366 - val_sparse_categorical_accuracy: 0.9834\n",
            "Epoch 321/1000\n",
            "25/25 [==============================] - 4s 145ms/step - loss: 0.0699 - sparse_categorical_accuracy: 0.9958 - val_loss: 0.1347 - val_sparse_categorical_accuracy: 0.9833\n",
            "Epoch 322/1000\n",
            "25/25 [==============================] - 4s 144ms/step - loss: 0.0695 - sparse_categorical_accuracy: 0.9958 - val_loss: 0.1369 - val_sparse_categorical_accuracy: 0.9836\n",
            "Epoch 323/1000\n",
            "25/25 [==============================] - 4s 145ms/step - loss: 0.0711 - sparse_categorical_accuracy: 0.9959 - val_loss: 0.1344 - val_sparse_categorical_accuracy: 0.9844\n",
            "Epoch 324/1000\n",
            "25/25 [==============================] - 4s 144ms/step - loss: 0.0696 - sparse_categorical_accuracy: 0.9959 - val_loss: 0.1355 - val_sparse_categorical_accuracy: 0.9836\n",
            "Epoch 325/1000\n",
            "25/25 [==============================] - 4s 146ms/step - loss: 0.0712 - sparse_categorical_accuracy: 0.9956 - val_loss: 0.1351 - val_sparse_categorical_accuracy: 0.9827\n",
            "Epoch 326/1000\n",
            "25/25 [==============================] - 4s 145ms/step - loss: 0.0709 - sparse_categorical_accuracy: 0.9954 - val_loss: 0.1330 - val_sparse_categorical_accuracy: 0.9838\n",
            "Epoch 327/1000\n",
            "25/25 [==============================] - 4s 144ms/step - loss: 0.0697 - sparse_categorical_accuracy: 0.9963 - val_loss: 0.1319 - val_sparse_categorical_accuracy: 0.9846\n",
            "Epoch 328/1000\n",
            "25/25 [==============================] - 4s 146ms/step - loss: 0.0697 - sparse_categorical_accuracy: 0.9959 - val_loss: 0.1371 - val_sparse_categorical_accuracy: 0.9835\n",
            "Epoch 329/1000\n",
            "25/25 [==============================] - 4s 145ms/step - loss: 0.0679 - sparse_categorical_accuracy: 0.9964 - val_loss: 0.1331 - val_sparse_categorical_accuracy: 0.9844\n",
            "Epoch 330/1000\n",
            "25/25 [==============================] - 4s 144ms/step - loss: 0.0673 - sparse_categorical_accuracy: 0.9968 - val_loss: 0.1385 - val_sparse_categorical_accuracy: 0.9826\n",
            "Epoch 331/1000\n",
            "25/25 [==============================] - 4s 144ms/step - loss: 0.0682 - sparse_categorical_accuracy: 0.9965 - val_loss: 0.1390 - val_sparse_categorical_accuracy: 0.9826\n",
            "Epoch 332/1000\n",
            "25/25 [==============================] - 4s 145ms/step - loss: 0.0703 - sparse_categorical_accuracy: 0.9954 - val_loss: 0.1397 - val_sparse_categorical_accuracy: 0.9833\n",
            "Epoch 333/1000\n",
            "25/25 [==============================] - 4s 145ms/step - loss: 0.0708 - sparse_categorical_accuracy: 0.9956 - val_loss: 0.1393 - val_sparse_categorical_accuracy: 0.9833\n",
            "Epoch 334/1000\n",
            "25/25 [==============================] - 4s 145ms/step - loss: 0.0692 - sparse_categorical_accuracy: 0.9959 - val_loss: 0.1326 - val_sparse_categorical_accuracy: 0.9827\n",
            "Epoch 335/1000\n",
            "25/25 [==============================] - 4s 145ms/step - loss: 0.0706 - sparse_categorical_accuracy: 0.9957 - val_loss: 0.1407 - val_sparse_categorical_accuracy: 0.9832\n",
            "Epoch 336/1000\n",
            "25/25 [==============================] - 4s 145ms/step - loss: 0.0721 - sparse_categorical_accuracy: 0.9948 - val_loss: 0.1344 - val_sparse_categorical_accuracy: 0.9843\n"
          ]
        }
      ]
    },
    {
      "cell_type": "code",
      "source": [
        "model.save('model.h5')"
      ],
      "metadata": {
        "id": "DYohg0I1Sa6X"
      },
      "execution_count": 17,
      "outputs": []
    },
    {
      "cell_type": "code",
      "source": [
        "model.save_weights('weight.h5')"
      ],
      "metadata": {
        "id": "erqOhvTtfL5l"
      },
      "execution_count": 18,
      "outputs": []
    },
    {
      "cell_type": "code",
      "source": [
        "y_predicted = model.predict(x_test)\n",
        "y_predicted"
      ],
      "metadata": {
        "id": "h784kgbOyXqy",
        "colab": {
          "base_uri": "https://localhost:8080/"
        },
        "outputId": "335a2505-8bf0-4a74-cf6b-3203b767bbf1"
      },
      "execution_count": 19,
      "outputs": [
        {
          "output_type": "execute_result",
          "data": {
            "text/plain": [
              "array([[3.88475954e-08, 1.56746296e-07, 3.17274896e-07, ...,\n",
              "        9.99996066e-01, 8.00122990e-08, 1.97990698e-06],\n",
              "       [6.53062500e-07, 2.29303691e-06, 9.99994636e-01, ...,\n",
              "        3.25926607e-07, 3.58047743e-07, 5.16896836e-09],\n",
              "       [1.45028167e-07, 9.99998093e-01, 5.78871436e-07, ...,\n",
              "        6.24133577e-07, 5.18929653e-07, 1.47411159e-08],\n",
              "       ...,\n",
              "       [9.31813346e-08, 2.15933611e-07, 1.52456735e-07, ...,\n",
              "        1.93594119e-07, 2.03778441e-07, 7.58448778e-06],\n",
              "       [3.25338704e-07, 7.58744534e-08, 5.84957398e-08, ...,\n",
              "        1.09701695e-07, 9.60801935e-06, 5.71736116e-08],\n",
              "       [3.68326852e-07, 1.73207244e-08, 8.71715713e-08, ...,\n",
              "        1.98347259e-08, 3.73793682e-07, 1.92848528e-08]], dtype=float32)"
            ]
          },
          "metadata": {},
          "execution_count": 19
        }
      ]
    },
    {
      "cell_type": "code",
      "source": [
        "y_pred = y_predicted.argmax(axis=1)\n",
        "y_pred"
      ],
      "metadata": {
        "id": "j2X383Kjylji",
        "colab": {
          "base_uri": "https://localhost:8080/"
        },
        "outputId": "d94313f2-23f7-47bc-b2bd-0c58e9e8bdf9"
      },
      "execution_count": 20,
      "outputs": [
        {
          "output_type": "execute_result",
          "data": {
            "text/plain": [
              "array([7, 2, 1, ..., 4, 5, 6])"
            ]
          },
          "metadata": {},
          "execution_count": 20
        }
      ]
    },
    {
      "cell_type": "code",
      "source": [
        "print(classification_report(y_test, y_pred))"
      ],
      "metadata": {
        "id": "DON8iCt2zxj7",
        "colab": {
          "base_uri": "https://localhost:8080/"
        },
        "outputId": "2b4cc32b-ccab-40bf-cc47-b91731e18b63"
      },
      "execution_count": 21,
      "outputs": [
        {
          "output_type": "stream",
          "name": "stdout",
          "text": [
            "              precision    recall  f1-score   support\n",
            "\n",
            "           0       0.98      1.00      0.99       980\n",
            "           1       1.00      0.99      1.00      1135\n",
            "           2       0.98      0.99      0.99      1032\n",
            "           3       0.98      0.99      0.98      1010\n",
            "           4       0.99      0.99      0.99       982\n",
            "           5       0.99      0.97      0.98       892\n",
            "           6       0.99      0.99      0.99       958\n",
            "           7       0.97      0.99      0.98      1028\n",
            "           8       0.99      0.99      0.99       974\n",
            "           9       0.98      0.97      0.98      1009\n",
            "\n",
            "    accuracy                           0.99     10000\n",
            "   macro avg       0.99      0.98      0.99     10000\n",
            "weighted avg       0.99      0.99      0.99     10000\n",
            "\n"
          ]
        }
      ]
    },
    {
      "cell_type": "code",
      "source": [
        "incorrect = np.where(y_pred != y_test)\n",
        "x_wrong = []\n",
        "y_wrong = []\n",
        "y_expected = []\n",
        "for i in incorrect[0]:\n",
        "  x_wrong.append(x_test[i])\n",
        "  y_wrong.append(y_pred[i])\n",
        "  y_expected.append(y_test[i])"
      ],
      "metadata": {
        "id": "Ah6CQpAjSYkv"
      },
      "execution_count": 22,
      "outputs": []
    },
    {
      "cell_type": "code",
      "source": [
        "# Example of the incorrect predicted data\n",
        "_, axes = plt.subplots(nrows=1, ncols=10, figsize=(12, 3))\n",
        "for ax, image, predict, label in zip(axes, x_wrong[:10], y_wrong[:10], y_expected[:10]):\n",
        "  ax.set_axis_off()\n",
        "  ax.imshow(image.reshape(28,28), cmap=plt.cm.gray_r, interpolation=\"nearest\")\n",
        "  ax.set_title(\"Predict: %i\" % predict + \"\\nLabel: %i\" % label)"
      ],
      "metadata": {
        "id": "2MZUgNhgAaF2",
        "colab": {
          "base_uri": "https://localhost:8080/",
          "height": 119
        },
        "outputId": "23b3f608-e519-4c44-8b08-eed6fbf125b8"
      },
      "execution_count": 23,
      "outputs": [
        {
          "output_type": "display_data",
          "data": {
            "image/png": "[encoded data removed]",
            "text/plain": [
              "<Figure size 864x216 with 10 Axes>"
            ]
          },
          "metadata": {
            "needs_background": "light"
          }
        }
      ]
    },
    {
      "cell_type": "code",
      "source": [
        "_, axes = plt.subplots(nrows=1, ncols=10, figsize=(12, 3))\n",
        "for ax, image, predict, label in zip(axes, x_wrong[11:21], y_wrong[11:21], y_expected[11:21]):\n",
        "  ax.set_axis_off()\n",
        "  ax.imshow(image.reshape(28,28), cmap=plt.cm.gray_r, interpolation=\"nearest\")\n",
        "  ax.set_title(\"Predict: %i\" % predict + \"\\nLabel: %i\" % label)"
      ],
      "metadata": {
        "id": "rt90rwK40OVh",
        "colab": {
          "base_uri": "https://localhost:8080/",
          "height": 119
        },
        "outputId": "fa29d298-6ce0-405d-e146-c3ef00a50eba"
      },
      "execution_count": 24,
      "outputs": [
        {
          "output_type": "display_data",
          "data": {
            "image/png": "[encoded data removed]",
            "text/plain": [
              "<Figure size 864x216 with 10 Axes>"
            ]
          },
          "metadata": {
            "needs_background": "light"
          }
        }
      ]
    },
    {
      "cell_type": "code",
      "source": [
        "confusion_matrix(y_test, y_pred)"
      ],
      "metadata": {
        "id": "pREkH8kqsGzR",
        "colab": {
          "base_uri": "https://localhost:8080/"
        },
        "outputId": "f1c37f26-a1ae-4f31-bf6d-6a268843ca18"
      },
      "execution_count": 25,
      "outputs": [
        {
          "output_type": "execute_result",
          "data": {
            "text/plain": [
              "array([[ 976,    0,    1,    0,    0,    0,    0,    1,    1,    1],\n",
              "       [   0, 1128,    1,    1,    0,    1,    2,    2,    0,    0],\n",
              "       [   2,    0, 1020,    4,    1,    0,    1,    2,    2,    0],\n",
              "       [   0,    1,    2,  997,    0,    0,    0,    7,    2,    1],\n",
              "       [   0,    0,    2,    0,  968,    0,    3,    4,    0,    5],\n",
              "       [   3,    0,    0,    9,    0,  867,    7,    1,    2,    3],\n",
              "       [   5,    1,    1,    1,    2,    3,  945,    0,    0,    0],\n",
              "       [   1,    0,    8,    2,    0,    0,    0, 1014,    0,    3],\n",
              "       [   3,    0,    3,    1,    0,    1,    1,    2,  961,    2],\n",
              "       [   2,    2,    0,    5,   10,    2,    0,    7,    5,  976]])"
            ]
          },
          "metadata": {},
          "execution_count": 25
        }
      ]
    }
  ]
}